{
 "cells": [
  {
   "cell_type": "code",
   "execution_count": 1,
   "id": "54870e3c",
   "metadata": {},
   "outputs": [],
   "source": [
    "import numpy as np\n",
    "import pandas as pd\n",
    "import matplotlib.pyplot as plt\n",
    "import seaborn as sns\n",
    "%matplotlib inline"
   ]
  },
  {
   "cell_type": "code",
   "execution_count": 2,
   "id": "317b9c18",
   "metadata": {
    "scrolled": true
   },
   "outputs": [
    {
     "data": {
      "text/html": [
       "<div>\n",
       "<style scoped>\n",
       "    .dataframe tbody tr th:only-of-type {\n",
       "        vertical-align: middle;\n",
       "    }\n",
       "\n",
       "    .dataframe tbody tr th {\n",
       "        vertical-align: top;\n",
       "    }\n",
       "\n",
       "    .dataframe thead th {\n",
       "        text-align: right;\n",
       "    }\n",
       "</style>\n",
       "<table border=\"1\" class=\"dataframe\">\n",
       "  <thead>\n",
       "    <tr style=\"text-align: right;\">\n",
       "      <th></th>\n",
       "      <th>S.No.</th>\n",
       "      <th>Name</th>\n",
       "      <th>Location</th>\n",
       "      <th>Year</th>\n",
       "      <th>Kilometers_Driven</th>\n",
       "      <th>Fuel_Type</th>\n",
       "      <th>Transmission</th>\n",
       "      <th>Owner_Type</th>\n",
       "      <th>Mileage</th>\n",
       "      <th>Engine</th>\n",
       "      <th>Power</th>\n",
       "      <th>Seats</th>\n",
       "      <th>New_Price</th>\n",
       "      <th>Price</th>\n",
       "    </tr>\n",
       "  </thead>\n",
       "  <tbody>\n",
       "    <tr>\n",
       "      <th>0</th>\n",
       "      <td>0</td>\n",
       "      <td>Maruti Wagon R LXI CNG</td>\n",
       "      <td>Mumbai</td>\n",
       "      <td>2010</td>\n",
       "      <td>72000</td>\n",
       "      <td>CNG</td>\n",
       "      <td>Manual</td>\n",
       "      <td>First</td>\n",
       "      <td>26.6 km/kg</td>\n",
       "      <td>998 CC</td>\n",
       "      <td>58.16 bhp</td>\n",
       "      <td>5.0</td>\n",
       "      <td>NaN</td>\n",
       "      <td>1.75</td>\n",
       "    </tr>\n",
       "    <tr>\n",
       "      <th>1</th>\n",
       "      <td>1</td>\n",
       "      <td>Hyundai Creta 1.6 CRDi SX Option</td>\n",
       "      <td>Pune</td>\n",
       "      <td>2015</td>\n",
       "      <td>41000</td>\n",
       "      <td>Diesel</td>\n",
       "      <td>Manual</td>\n",
       "      <td>First</td>\n",
       "      <td>19.67 kmpl</td>\n",
       "      <td>1582 CC</td>\n",
       "      <td>126.2 bhp</td>\n",
       "      <td>5.0</td>\n",
       "      <td>NaN</td>\n",
       "      <td>12.50</td>\n",
       "    </tr>\n",
       "    <tr>\n",
       "      <th>2</th>\n",
       "      <td>2</td>\n",
       "      <td>Honda Jazz V</td>\n",
       "      <td>Chennai</td>\n",
       "      <td>2011</td>\n",
       "      <td>46000</td>\n",
       "      <td>Petrol</td>\n",
       "      <td>Manual</td>\n",
       "      <td>First</td>\n",
       "      <td>18.2 kmpl</td>\n",
       "      <td>1199 CC</td>\n",
       "      <td>88.7 bhp</td>\n",
       "      <td>5.0</td>\n",
       "      <td>8.61 Lakh</td>\n",
       "      <td>4.50</td>\n",
       "    </tr>\n",
       "    <tr>\n",
       "      <th>3</th>\n",
       "      <td>3</td>\n",
       "      <td>Maruti Ertiga VDI</td>\n",
       "      <td>Chennai</td>\n",
       "      <td>2012</td>\n",
       "      <td>87000</td>\n",
       "      <td>Diesel</td>\n",
       "      <td>Manual</td>\n",
       "      <td>First</td>\n",
       "      <td>20.77 kmpl</td>\n",
       "      <td>1248 CC</td>\n",
       "      <td>88.76 bhp</td>\n",
       "      <td>7.0</td>\n",
       "      <td>NaN</td>\n",
       "      <td>6.00</td>\n",
       "    </tr>\n",
       "    <tr>\n",
       "      <th>4</th>\n",
       "      <td>4</td>\n",
       "      <td>Audi A4 New 2.0 TDI Multitronic</td>\n",
       "      <td>Coimbatore</td>\n",
       "      <td>2013</td>\n",
       "      <td>40670</td>\n",
       "      <td>Diesel</td>\n",
       "      <td>Automatic</td>\n",
       "      <td>Second</td>\n",
       "      <td>15.2 kmpl</td>\n",
       "      <td>1968 CC</td>\n",
       "      <td>140.8 bhp</td>\n",
       "      <td>5.0</td>\n",
       "      <td>NaN</td>\n",
       "      <td>17.74</td>\n",
       "    </tr>\n",
       "  </tbody>\n",
       "</table>\n",
       "</div>"
      ],
      "text/plain": [
       "   S.No.                              Name    Location  Year  \\\n",
       "0      0            Maruti Wagon R LXI CNG      Mumbai  2010   \n",
       "1      1  Hyundai Creta 1.6 CRDi SX Option        Pune  2015   \n",
       "2      2                      Honda Jazz V     Chennai  2011   \n",
       "3      3                 Maruti Ertiga VDI     Chennai  2012   \n",
       "4      4   Audi A4 New 2.0 TDI Multitronic  Coimbatore  2013   \n",
       "\n",
       "   Kilometers_Driven Fuel_Type Transmission Owner_Type     Mileage   Engine  \\\n",
       "0              72000       CNG       Manual      First  26.6 km/kg   998 CC   \n",
       "1              41000    Diesel       Manual      First  19.67 kmpl  1582 CC   \n",
       "2              46000    Petrol       Manual      First   18.2 kmpl  1199 CC   \n",
       "3              87000    Diesel       Manual      First  20.77 kmpl  1248 CC   \n",
       "4              40670    Diesel    Automatic     Second   15.2 kmpl  1968 CC   \n",
       "\n",
       "       Power  Seats  New_Price  Price  \n",
       "0  58.16 bhp    5.0        NaN   1.75  \n",
       "1  126.2 bhp    5.0        NaN  12.50  \n",
       "2   88.7 bhp    5.0  8.61 Lakh   4.50  \n",
       "3  88.76 bhp    7.0        NaN   6.00  \n",
       "4  140.8 bhp    5.0        NaN  17.74  "
      ]
     },
     "execution_count": 2,
     "metadata": {},
     "output_type": "execute_result"
    }
   ],
   "source": [
    "df = pd.read_csv('used_cars_data.csv')\n",
    "df.head()"
   ]
  },
  {
   "cell_type": "markdown",
   "id": "e017386b",
   "metadata": {},
   "source": [
    "### As S.No. is of no use so we will drop it"
   ]
  },
  {
   "cell_type": "code",
   "execution_count": 3,
   "id": "310379bd",
   "metadata": {},
   "outputs": [],
   "source": [
    "df.drop('S.No.',axis=1,inplace=True)"
   ]
  },
  {
   "cell_type": "code",
   "execution_count": 4,
   "id": "e3664c22",
   "metadata": {},
   "outputs": [
    {
     "data": {
      "text/html": [
       "<div>\n",
       "<style scoped>\n",
       "    .dataframe tbody tr th:only-of-type {\n",
       "        vertical-align: middle;\n",
       "    }\n",
       "\n",
       "    .dataframe tbody tr th {\n",
       "        vertical-align: top;\n",
       "    }\n",
       "\n",
       "    .dataframe thead th {\n",
       "        text-align: right;\n",
       "    }\n",
       "</style>\n",
       "<table border=\"1\" class=\"dataframe\">\n",
       "  <thead>\n",
       "    <tr style=\"text-align: right;\">\n",
       "      <th></th>\n",
       "      <th>Name</th>\n",
       "      <th>Location</th>\n",
       "      <th>Year</th>\n",
       "      <th>Kilometers_Driven</th>\n",
       "      <th>Fuel_Type</th>\n",
       "      <th>Transmission</th>\n",
       "      <th>Owner_Type</th>\n",
       "      <th>Mileage</th>\n",
       "      <th>Engine</th>\n",
       "      <th>Power</th>\n",
       "      <th>Seats</th>\n",
       "      <th>New_Price</th>\n",
       "      <th>Price</th>\n",
       "    </tr>\n",
       "  </thead>\n",
       "  <tbody>\n",
       "    <tr>\n",
       "      <th>0</th>\n",
       "      <td>Maruti Wagon R LXI CNG</td>\n",
       "      <td>Mumbai</td>\n",
       "      <td>2010</td>\n",
       "      <td>72000</td>\n",
       "      <td>CNG</td>\n",
       "      <td>Manual</td>\n",
       "      <td>First</td>\n",
       "      <td>26.6 km/kg</td>\n",
       "      <td>998 CC</td>\n",
       "      <td>58.16 bhp</td>\n",
       "      <td>5.0</td>\n",
       "      <td>NaN</td>\n",
       "      <td>1.75</td>\n",
       "    </tr>\n",
       "    <tr>\n",
       "      <th>1</th>\n",
       "      <td>Hyundai Creta 1.6 CRDi SX Option</td>\n",
       "      <td>Pune</td>\n",
       "      <td>2015</td>\n",
       "      <td>41000</td>\n",
       "      <td>Diesel</td>\n",
       "      <td>Manual</td>\n",
       "      <td>First</td>\n",
       "      <td>19.67 kmpl</td>\n",
       "      <td>1582 CC</td>\n",
       "      <td>126.2 bhp</td>\n",
       "      <td>5.0</td>\n",
       "      <td>NaN</td>\n",
       "      <td>12.50</td>\n",
       "    </tr>\n",
       "    <tr>\n",
       "      <th>2</th>\n",
       "      <td>Honda Jazz V</td>\n",
       "      <td>Chennai</td>\n",
       "      <td>2011</td>\n",
       "      <td>46000</td>\n",
       "      <td>Petrol</td>\n",
       "      <td>Manual</td>\n",
       "      <td>First</td>\n",
       "      <td>18.2 kmpl</td>\n",
       "      <td>1199 CC</td>\n",
       "      <td>88.7 bhp</td>\n",
       "      <td>5.0</td>\n",
       "      <td>8.61 Lakh</td>\n",
       "      <td>4.50</td>\n",
       "    </tr>\n",
       "  </tbody>\n",
       "</table>\n",
       "</div>"
      ],
      "text/plain": [
       "                               Name Location  Year  Kilometers_Driven  \\\n",
       "0            Maruti Wagon R LXI CNG   Mumbai  2010              72000   \n",
       "1  Hyundai Creta 1.6 CRDi SX Option     Pune  2015              41000   \n",
       "2                      Honda Jazz V  Chennai  2011              46000   \n",
       "\n",
       "  Fuel_Type Transmission Owner_Type     Mileage   Engine      Power  Seats  \\\n",
       "0       CNG       Manual      First  26.6 km/kg   998 CC  58.16 bhp    5.0   \n",
       "1    Diesel       Manual      First  19.67 kmpl  1582 CC  126.2 bhp    5.0   \n",
       "2    Petrol       Manual      First   18.2 kmpl  1199 CC   88.7 bhp    5.0   \n",
       "\n",
       "   New_Price  Price  \n",
       "0        NaN   1.75  \n",
       "1        NaN  12.50  \n",
       "2  8.61 Lakh   4.50  "
      ]
     },
     "execution_count": 4,
     "metadata": {},
     "output_type": "execute_result"
    }
   ],
   "source": [
    "df[:3]"
   ]
  },
  {
   "cell_type": "code",
   "execution_count": 5,
   "id": "2d614ea3",
   "metadata": {},
   "outputs": [
    {
     "data": {
      "text/plain": [
       "(7253, 13)"
      ]
     },
     "execution_count": 5,
     "metadata": {},
     "output_type": "execute_result"
    }
   ],
   "source": [
    "df.shape"
   ]
  },
  {
   "cell_type": "markdown",
   "id": "268e8eaf",
   "metadata": {},
   "source": [
    "### checking null values"
   ]
  },
  {
   "cell_type": "code",
   "execution_count": 6,
   "id": "7f5512a5",
   "metadata": {},
   "outputs": [
    {
     "data": {
      "text/plain": [
       "Name                    0\n",
       "Location                0\n",
       "Year                    0\n",
       "Kilometers_Driven       0\n",
       "Fuel_Type               0\n",
       "Transmission            0\n",
       "Owner_Type              0\n",
       "Mileage                 2\n",
       "Engine                 46\n",
       "Power                  46\n",
       "Seats                  53\n",
       "New_Price            6247\n",
       "Price                1234\n",
       "dtype: int64"
      ]
     },
     "execution_count": 6,
     "metadata": {},
     "output_type": "execute_result"
    }
   ],
   "source": [
    "\n",
    "df.isna().sum()"
   ]
  },
  {
   "cell_type": "code",
   "execution_count": 7,
   "id": "710bf3b9",
   "metadata": {},
   "outputs": [
    {
     "data": {
      "text/plain": [
       "Name                  0.000000\n",
       "Location              0.000000\n",
       "Year                  0.000000\n",
       "Kilometers_Driven     0.000000\n",
       "Fuel_Type             0.000000\n",
       "Transmission          0.000000\n",
       "Owner_Type            0.000000\n",
       "Mileage               0.027575\n",
       "Engine                0.634220\n",
       "Power                 0.634220\n",
       "Seats                 0.730732\n",
       "New_Price            86.129877\n",
       "Price                17.013650\n",
       "dtype: float64"
      ]
     },
     "execution_count": 7,
     "metadata": {},
     "output_type": "execute_result"
    }
   ],
   "source": [
    "#percentage of null values\n",
    "df.isna().mean()*100"
   ]
  },
  {
   "cell_type": "raw",
   "id": "cb1e79e5",
   "metadata": {},
   "source": [
    "we see that New_Price column has most null values 6247 rows i.e.(86%) so we can remove it.\n",
    "\n",
    "we also see that there are only 2 missing value in Mileage column,\n",
    "While we have Engine, Power, Seats columns missing values less than 1%.\n"
   ]
  },
  {
   "cell_type": "code",
   "execution_count": 8,
   "id": "0a4ced6c",
   "metadata": {},
   "outputs": [],
   "source": [
    "df.drop('New_Price',axis=1,inplace=True)"
   ]
  },
  {
   "cell_type": "code",
   "execution_count": 9,
   "id": "7f6f1277",
   "metadata": {},
   "outputs": [
    {
     "data": {
      "text/html": [
       "<div>\n",
       "<style scoped>\n",
       "    .dataframe tbody tr th:only-of-type {\n",
       "        vertical-align: middle;\n",
       "    }\n",
       "\n",
       "    .dataframe tbody tr th {\n",
       "        vertical-align: top;\n",
       "    }\n",
       "\n",
       "    .dataframe thead th {\n",
       "        text-align: right;\n",
       "    }\n",
       "</style>\n",
       "<table border=\"1\" class=\"dataframe\">\n",
       "  <thead>\n",
       "    <tr style=\"text-align: right;\">\n",
       "      <th></th>\n",
       "      <th>Name</th>\n",
       "      <th>Location</th>\n",
       "      <th>Year</th>\n",
       "      <th>Kilometers_Driven</th>\n",
       "      <th>Fuel_Type</th>\n",
       "      <th>Transmission</th>\n",
       "      <th>Owner_Type</th>\n",
       "      <th>Mileage</th>\n",
       "      <th>Engine</th>\n",
       "      <th>Power</th>\n",
       "      <th>Seats</th>\n",
       "      <th>Price</th>\n",
       "    </tr>\n",
       "  </thead>\n",
       "  <tbody>\n",
       "    <tr>\n",
       "      <th>0</th>\n",
       "      <td>Maruti Wagon R LXI CNG</td>\n",
       "      <td>Mumbai</td>\n",
       "      <td>2010</td>\n",
       "      <td>72000</td>\n",
       "      <td>CNG</td>\n",
       "      <td>Manual</td>\n",
       "      <td>First</td>\n",
       "      <td>26.6 km/kg</td>\n",
       "      <td>998 CC</td>\n",
       "      <td>58.16 bhp</td>\n",
       "      <td>5.0</td>\n",
       "      <td>1.75</td>\n",
       "    </tr>\n",
       "    <tr>\n",
       "      <th>1</th>\n",
       "      <td>Hyundai Creta 1.6 CRDi SX Option</td>\n",
       "      <td>Pune</td>\n",
       "      <td>2015</td>\n",
       "      <td>41000</td>\n",
       "      <td>Diesel</td>\n",
       "      <td>Manual</td>\n",
       "      <td>First</td>\n",
       "      <td>19.67 kmpl</td>\n",
       "      <td>1582 CC</td>\n",
       "      <td>126.2 bhp</td>\n",
       "      <td>5.0</td>\n",
       "      <td>12.50</td>\n",
       "    </tr>\n",
       "    <tr>\n",
       "      <th>2</th>\n",
       "      <td>Honda Jazz V</td>\n",
       "      <td>Chennai</td>\n",
       "      <td>2011</td>\n",
       "      <td>46000</td>\n",
       "      <td>Petrol</td>\n",
       "      <td>Manual</td>\n",
       "      <td>First</td>\n",
       "      <td>18.2 kmpl</td>\n",
       "      <td>1199 CC</td>\n",
       "      <td>88.7 bhp</td>\n",
       "      <td>5.0</td>\n",
       "      <td>4.50</td>\n",
       "    </tr>\n",
       "    <tr>\n",
       "      <th>3</th>\n",
       "      <td>Maruti Ertiga VDI</td>\n",
       "      <td>Chennai</td>\n",
       "      <td>2012</td>\n",
       "      <td>87000</td>\n",
       "      <td>Diesel</td>\n",
       "      <td>Manual</td>\n",
       "      <td>First</td>\n",
       "      <td>20.77 kmpl</td>\n",
       "      <td>1248 CC</td>\n",
       "      <td>88.76 bhp</td>\n",
       "      <td>7.0</td>\n",
       "      <td>6.00</td>\n",
       "    </tr>\n",
       "    <tr>\n",
       "      <th>4</th>\n",
       "      <td>Audi A4 New 2.0 TDI Multitronic</td>\n",
       "      <td>Coimbatore</td>\n",
       "      <td>2013</td>\n",
       "      <td>40670</td>\n",
       "      <td>Diesel</td>\n",
       "      <td>Automatic</td>\n",
       "      <td>Second</td>\n",
       "      <td>15.2 kmpl</td>\n",
       "      <td>1968 CC</td>\n",
       "      <td>140.8 bhp</td>\n",
       "      <td>5.0</td>\n",
       "      <td>17.74</td>\n",
       "    </tr>\n",
       "  </tbody>\n",
       "</table>\n",
       "</div>"
      ],
      "text/plain": [
       "                               Name    Location  Year  Kilometers_Driven  \\\n",
       "0            Maruti Wagon R LXI CNG      Mumbai  2010              72000   \n",
       "1  Hyundai Creta 1.6 CRDi SX Option        Pune  2015              41000   \n",
       "2                      Honda Jazz V     Chennai  2011              46000   \n",
       "3                 Maruti Ertiga VDI     Chennai  2012              87000   \n",
       "4   Audi A4 New 2.0 TDI Multitronic  Coimbatore  2013              40670   \n",
       "\n",
       "  Fuel_Type Transmission Owner_Type     Mileage   Engine      Power  Seats  \\\n",
       "0       CNG       Manual      First  26.6 km/kg   998 CC  58.16 bhp    5.0   \n",
       "1    Diesel       Manual      First  19.67 kmpl  1582 CC  126.2 bhp    5.0   \n",
       "2    Petrol       Manual      First   18.2 kmpl  1199 CC   88.7 bhp    5.0   \n",
       "3    Diesel       Manual      First  20.77 kmpl  1248 CC  88.76 bhp    7.0   \n",
       "4    Diesel    Automatic     Second   15.2 kmpl  1968 CC  140.8 bhp    5.0   \n",
       "\n",
       "   Price  \n",
       "0   1.75  \n",
       "1  12.50  \n",
       "2   4.50  \n",
       "3   6.00  \n",
       "4  17.74  "
      ]
     },
     "execution_count": 9,
     "metadata": {},
     "output_type": "execute_result"
    }
   ],
   "source": [
    "df.head()"
   ]
  },
  {
   "cell_type": "code",
   "execution_count": 10,
   "id": "3a8f1f91",
   "metadata": {},
   "outputs": [
    {
     "name": "stdout",
     "output_type": "stream",
     "text": [
      "<class 'pandas.core.frame.DataFrame'>\n",
      "RangeIndex: 7253 entries, 0 to 7252\n",
      "Data columns (total 12 columns):\n",
      " #   Column             Non-Null Count  Dtype  \n",
      "---  ------             --------------  -----  \n",
      " 0   Name               7253 non-null   object \n",
      " 1   Location           7253 non-null   object \n",
      " 2   Year               7253 non-null   int64  \n",
      " 3   Kilometers_Driven  7253 non-null   int64  \n",
      " 4   Fuel_Type          7253 non-null   object \n",
      " 5   Transmission       7253 non-null   object \n",
      " 6   Owner_Type         7253 non-null   object \n",
      " 7   Mileage            7251 non-null   object \n",
      " 8   Engine             7207 non-null   object \n",
      " 9   Power              7207 non-null   object \n",
      " 10  Seats              7200 non-null   float64\n",
      " 11  Price              6019 non-null   float64\n",
      "dtypes: float64(2), int64(2), object(8)\n",
      "memory usage: 680.1+ KB\n"
     ]
    }
   ],
   "source": [
    "df.info()"
   ]
  },
  {
   "cell_type": "markdown",
   "id": "94a140c7",
   "metadata": {},
   "source": [
    "#### Here we can observe that there are 2 float , 2 int and 8 object columns"
   ]
  },
  {
   "cell_type": "code",
   "execution_count": null,
   "id": "22efda42",
   "metadata": {},
   "outputs": [],
   "source": []
  },
  {
   "cell_type": "markdown",
   "id": "909cb309",
   "metadata": {},
   "source": [
    "## Mileage"
   ]
  },
  {
   "cell_type": "code",
   "execution_count": 11,
   "id": "7146aff4",
   "metadata": {},
   "outputs": [
    {
     "data": {
      "text/html": [
       "<div>\n",
       "<style scoped>\n",
       "    .dataframe tbody tr th:only-of-type {\n",
       "        vertical-align: middle;\n",
       "    }\n",
       "\n",
       "    .dataframe tbody tr th {\n",
       "        vertical-align: top;\n",
       "    }\n",
       "\n",
       "    .dataframe thead th {\n",
       "        text-align: right;\n",
       "    }\n",
       "</style>\n",
       "<table border=\"1\" class=\"dataframe\">\n",
       "  <thead>\n",
       "    <tr style=\"text-align: right;\">\n",
       "      <th></th>\n",
       "      <th>Name</th>\n",
       "      <th>Location</th>\n",
       "      <th>Year</th>\n",
       "      <th>Kilometers_Driven</th>\n",
       "      <th>Fuel_Type</th>\n",
       "      <th>Transmission</th>\n",
       "      <th>Owner_Type</th>\n",
       "      <th>Mileage</th>\n",
       "      <th>Engine</th>\n",
       "      <th>Power</th>\n",
       "      <th>Seats</th>\n",
       "      <th>Price</th>\n",
       "    </tr>\n",
       "  </thead>\n",
       "  <tbody>\n",
       "    <tr>\n",
       "      <th>4446</th>\n",
       "      <td>Mahindra E Verito D4</td>\n",
       "      <td>Chennai</td>\n",
       "      <td>2016</td>\n",
       "      <td>50000</td>\n",
       "      <td>Electric</td>\n",
       "      <td>Automatic</td>\n",
       "      <td>First</td>\n",
       "      <td>NaN</td>\n",
       "      <td>72 CC</td>\n",
       "      <td>41 bhp</td>\n",
       "      <td>5.0</td>\n",
       "      <td>13.00</td>\n",
       "    </tr>\n",
       "    <tr>\n",
       "      <th>4904</th>\n",
       "      <td>Toyota Prius 2009-2016 Z4</td>\n",
       "      <td>Mumbai</td>\n",
       "      <td>2011</td>\n",
       "      <td>44000</td>\n",
       "      <td>Electric</td>\n",
       "      <td>Automatic</td>\n",
       "      <td>First</td>\n",
       "      <td>NaN</td>\n",
       "      <td>1798 CC</td>\n",
       "      <td>73 bhp</td>\n",
       "      <td>5.0</td>\n",
       "      <td>12.75</td>\n",
       "    </tr>\n",
       "  </tbody>\n",
       "</table>\n",
       "</div>"
      ],
      "text/plain": [
       "                           Name Location  Year  Kilometers_Driven Fuel_Type  \\\n",
       "4446       Mahindra E Verito D4  Chennai  2016              50000  Electric   \n",
       "4904  Toyota Prius 2009-2016 Z4   Mumbai  2011              44000  Electric   \n",
       "\n",
       "     Transmission Owner_Type Mileage   Engine   Power  Seats  Price  \n",
       "4446    Automatic      First     NaN    72 CC  41 bhp    5.0  13.00  \n",
       "4904    Automatic      First     NaN  1798 CC  73 bhp    5.0  12.75  "
      ]
     },
     "execution_count": 11,
     "metadata": {},
     "output_type": "execute_result"
    }
   ],
   "source": [
    "df[df['Mileage'].isna()]"
   ]
  },
  {
   "cell_type": "code",
   "execution_count": 12,
   "id": "83662aff",
   "metadata": {},
   "outputs": [
    {
     "data": {
      "text/html": [
       "<div>\n",
       "<style scoped>\n",
       "    .dataframe tbody tr th:only-of-type {\n",
       "        vertical-align: middle;\n",
       "    }\n",
       "\n",
       "    .dataframe tbody tr th {\n",
       "        vertical-align: top;\n",
       "    }\n",
       "\n",
       "    .dataframe thead th {\n",
       "        text-align: right;\n",
       "    }\n",
       "</style>\n",
       "<table border=\"1\" class=\"dataframe\">\n",
       "  <thead>\n",
       "    <tr style=\"text-align: right;\">\n",
       "      <th></th>\n",
       "      <th>Name</th>\n",
       "      <th>Location</th>\n",
       "      <th>Year</th>\n",
       "      <th>Kilometers_Driven</th>\n",
       "      <th>Fuel_Type</th>\n",
       "      <th>Transmission</th>\n",
       "      <th>Owner_Type</th>\n",
       "      <th>Mileage</th>\n",
       "      <th>Engine</th>\n",
       "      <th>Power</th>\n",
       "      <th>Seats</th>\n",
       "      <th>Price</th>\n",
       "    </tr>\n",
       "  </thead>\n",
       "  <tbody>\n",
       "    <tr>\n",
       "      <th>4446</th>\n",
       "      <td>Mahindra E Verito D4</td>\n",
       "      <td>Chennai</td>\n",
       "      <td>2016</td>\n",
       "      <td>50000</td>\n",
       "      <td>Electric</td>\n",
       "      <td>Automatic</td>\n",
       "      <td>First</td>\n",
       "      <td>NaN</td>\n",
       "      <td>72 CC</td>\n",
       "      <td>41 bhp</td>\n",
       "      <td>5.0</td>\n",
       "      <td>13.00</td>\n",
       "    </tr>\n",
       "    <tr>\n",
       "      <th>4904</th>\n",
       "      <td>Toyota Prius 2009-2016 Z4</td>\n",
       "      <td>Mumbai</td>\n",
       "      <td>2011</td>\n",
       "      <td>44000</td>\n",
       "      <td>Electric</td>\n",
       "      <td>Automatic</td>\n",
       "      <td>First</td>\n",
       "      <td>NaN</td>\n",
       "      <td>1798 CC</td>\n",
       "      <td>73 bhp</td>\n",
       "      <td>5.0</td>\n",
       "      <td>12.75</td>\n",
       "    </tr>\n",
       "  </tbody>\n",
       "</table>\n",
       "</div>"
      ],
      "text/plain": [
       "                           Name Location  Year  Kilometers_Driven Fuel_Type  \\\n",
       "4446       Mahindra E Verito D4  Chennai  2016              50000  Electric   \n",
       "4904  Toyota Prius 2009-2016 Z4   Mumbai  2011              44000  Electric   \n",
       "\n",
       "     Transmission Owner_Type Mileage   Engine   Power  Seats  Price  \n",
       "4446    Automatic      First     NaN    72 CC  41 bhp    5.0  13.00  \n",
       "4904    Automatic      First     NaN  1798 CC  73 bhp    5.0  12.75  "
      ]
     },
     "execution_count": 12,
     "metadata": {},
     "output_type": "execute_result"
    }
   ],
   "source": [
    "# Checking for null values, we found that there are only 2 entries of this models which are also electric\n",
    "\n",
    "df[(df['Mileage'].isna())|(df['Fuel_Type'] == 'Electric')]"
   ]
  },
  {
   "cell_type": "markdown",
   "id": "10d7d634",
   "metadata": {},
   "source": [
    "Here we can see that there are only 2 missing values for Mileage and both are Electric vehicle, which have actually range of distance covered. so we can drop that rows\n"
   ]
  },
  {
   "cell_type": "code",
   "execution_count": 13,
   "id": "cb8809e6",
   "metadata": {},
   "outputs": [],
   "source": [
    "df.dropna(subset='Mileage',inplace=True)"
   ]
  },
  {
   "cell_type": "code",
   "execution_count": 14,
   "id": "e3d01279",
   "metadata": {},
   "outputs": [],
   "source": [
    "# convert the values to float\n",
    "\n",
    "df.Mileage = df.Mileage.str.replace('km/kg','').str.replace('kmpl','').astype(float)"
   ]
  },
  {
   "cell_type": "code",
   "execution_count": 15,
   "id": "568f0eee",
   "metadata": {},
   "outputs": [
    {
     "data": {
      "text/html": [
       "<div>\n",
       "<style scoped>\n",
       "    .dataframe tbody tr th:only-of-type {\n",
       "        vertical-align: middle;\n",
       "    }\n",
       "\n",
       "    .dataframe tbody tr th {\n",
       "        vertical-align: top;\n",
       "    }\n",
       "\n",
       "    .dataframe thead th {\n",
       "        text-align: right;\n",
       "    }\n",
       "</style>\n",
       "<table border=\"1\" class=\"dataframe\">\n",
       "  <thead>\n",
       "    <tr style=\"text-align: right;\">\n",
       "      <th></th>\n",
       "      <th>Name</th>\n",
       "      <th>Location</th>\n",
       "      <th>Year</th>\n",
       "      <th>Kilometers_Driven</th>\n",
       "      <th>Fuel_Type</th>\n",
       "      <th>Transmission</th>\n",
       "      <th>Owner_Type</th>\n",
       "      <th>Mileage</th>\n",
       "      <th>Engine</th>\n",
       "      <th>Power</th>\n",
       "      <th>Seats</th>\n",
       "      <th>Price</th>\n",
       "    </tr>\n",
       "  </thead>\n",
       "  <tbody>\n",
       "    <tr>\n",
       "      <th>0</th>\n",
       "      <td>Maruti Wagon R LXI CNG</td>\n",
       "      <td>Mumbai</td>\n",
       "      <td>2010</td>\n",
       "      <td>72000</td>\n",
       "      <td>CNG</td>\n",
       "      <td>Manual</td>\n",
       "      <td>First</td>\n",
       "      <td>26.60</td>\n",
       "      <td>998 CC</td>\n",
       "      <td>58.16 bhp</td>\n",
       "      <td>5.0</td>\n",
       "      <td>1.75</td>\n",
       "    </tr>\n",
       "    <tr>\n",
       "      <th>1</th>\n",
       "      <td>Hyundai Creta 1.6 CRDi SX Option</td>\n",
       "      <td>Pune</td>\n",
       "      <td>2015</td>\n",
       "      <td>41000</td>\n",
       "      <td>Diesel</td>\n",
       "      <td>Manual</td>\n",
       "      <td>First</td>\n",
       "      <td>19.67</td>\n",
       "      <td>1582 CC</td>\n",
       "      <td>126.2 bhp</td>\n",
       "      <td>5.0</td>\n",
       "      <td>12.50</td>\n",
       "    </tr>\n",
       "    <tr>\n",
       "      <th>2</th>\n",
       "      <td>Honda Jazz V</td>\n",
       "      <td>Chennai</td>\n",
       "      <td>2011</td>\n",
       "      <td>46000</td>\n",
       "      <td>Petrol</td>\n",
       "      <td>Manual</td>\n",
       "      <td>First</td>\n",
       "      <td>18.20</td>\n",
       "      <td>1199 CC</td>\n",
       "      <td>88.7 bhp</td>\n",
       "      <td>5.0</td>\n",
       "      <td>4.50</td>\n",
       "    </tr>\n",
       "  </tbody>\n",
       "</table>\n",
       "</div>"
      ],
      "text/plain": [
       "                               Name Location  Year  Kilometers_Driven  \\\n",
       "0            Maruti Wagon R LXI CNG   Mumbai  2010              72000   \n",
       "1  Hyundai Creta 1.6 CRDi SX Option     Pune  2015              41000   \n",
       "2                      Honda Jazz V  Chennai  2011              46000   \n",
       "\n",
       "  Fuel_Type Transmission Owner_Type  Mileage   Engine      Power  Seats  Price  \n",
       "0       CNG       Manual      First    26.60   998 CC  58.16 bhp    5.0   1.75  \n",
       "1    Diesel       Manual      First    19.67  1582 CC  126.2 bhp    5.0  12.50  \n",
       "2    Petrol       Manual      First    18.20  1199 CC   88.7 bhp    5.0   4.50  "
      ]
     },
     "execution_count": 15,
     "metadata": {},
     "output_type": "execute_result"
    }
   ],
   "source": [
    "df[:3]"
   ]
  },
  {
   "cell_type": "code",
   "execution_count": 16,
   "id": "a7c9d855",
   "metadata": {},
   "outputs": [
    {
     "data": {
      "text/plain": [
       "17.00    208\n",
       "18.90    201\n",
       "18.60    144\n",
       "21.10    107\n",
       "20.36    105\n",
       "        ... \n",
       "17.09      1\n",
       "19.91      1\n",
       "17.16      1\n",
       "18.23      1\n",
       "17.15      1\n",
       "Name: Mileage, Length: 438, dtype: int64"
      ]
     },
     "execution_count": 16,
     "metadata": {},
     "output_type": "execute_result"
    }
   ],
   "source": [
    "df.Mileage.value_counts()"
   ]
  },
  {
   "cell_type": "code",
   "execution_count": 17,
   "id": "4c261618",
   "metadata": {},
   "outputs": [
    {
     "data": {
      "text/html": [
       "<div>\n",
       "<style scoped>\n",
       "    .dataframe tbody tr th:only-of-type {\n",
       "        vertical-align: middle;\n",
       "    }\n",
       "\n",
       "    .dataframe tbody tr th {\n",
       "        vertical-align: top;\n",
       "    }\n",
       "\n",
       "    .dataframe thead th {\n",
       "        text-align: right;\n",
       "    }\n",
       "</style>\n",
       "<table border=\"1\" class=\"dataframe\">\n",
       "  <thead>\n",
       "    <tr style=\"text-align: right;\">\n",
       "      <th></th>\n",
       "      <th>Name</th>\n",
       "      <th>Location</th>\n",
       "      <th>Year</th>\n",
       "      <th>Kilometers_Driven</th>\n",
       "      <th>Fuel_Type</th>\n",
       "      <th>Transmission</th>\n",
       "      <th>Owner_Type</th>\n",
       "      <th>Mileage</th>\n",
       "      <th>Engine</th>\n",
       "      <th>Power</th>\n",
       "      <th>Seats</th>\n",
       "      <th>Price</th>\n",
       "    </tr>\n",
       "  </thead>\n",
       "  <tbody>\n",
       "    <tr>\n",
       "      <th>2597</th>\n",
       "      <td>Hyundai Santro Xing XP</td>\n",
       "      <td>Pune</td>\n",
       "      <td>2007</td>\n",
       "      <td>70000</td>\n",
       "      <td>Petrol</td>\n",
       "      <td>Manual</td>\n",
       "      <td>First</td>\n",
       "      <td>0.00</td>\n",
       "      <td>1086 CC</td>\n",
       "      <td>null bhp</td>\n",
       "      <td>5.0</td>\n",
       "      <td>1.12</td>\n",
       "    </tr>\n",
       "    <tr>\n",
       "      <th>2343</th>\n",
       "      <td>Hyundai Santro AT</td>\n",
       "      <td>Hyderabad</td>\n",
       "      <td>2006</td>\n",
       "      <td>74483</td>\n",
       "      <td>Petrol</td>\n",
       "      <td>Automatic</td>\n",
       "      <td>First</td>\n",
       "      <td>0.00</td>\n",
       "      <td>999 CC</td>\n",
       "      <td>null bhp</td>\n",
       "      <td>5.0</td>\n",
       "      <td>2.30</td>\n",
       "    </tr>\n",
       "    <tr>\n",
       "      <th>5270</th>\n",
       "      <td>Honda City 1.5 GXI</td>\n",
       "      <td>Bangalore</td>\n",
       "      <td>2002</td>\n",
       "      <td>53000</td>\n",
       "      <td>Petrol</td>\n",
       "      <td>Manual</td>\n",
       "      <td>Second</td>\n",
       "      <td>0.00</td>\n",
       "      <td>NaN</td>\n",
       "      <td>NaN</td>\n",
       "      <td>NaN</td>\n",
       "      <td>1.85</td>\n",
       "    </tr>\n",
       "    <tr>\n",
       "      <th>424</th>\n",
       "      <td>Volkswagen Jetta 2007-2011 1.9 L TDI</td>\n",
       "      <td>Hyderabad</td>\n",
       "      <td>2010</td>\n",
       "      <td>42021</td>\n",
       "      <td>Diesel</td>\n",
       "      <td>Manual</td>\n",
       "      <td>First</td>\n",
       "      <td>0.00</td>\n",
       "      <td>1968 CC</td>\n",
       "      <td>null bhp</td>\n",
       "      <td>5.0</td>\n",
       "      <td>5.45</td>\n",
       "    </tr>\n",
       "    <tr>\n",
       "      <th>6857</th>\n",
       "      <td>Land Rover Freelander 2 TD4 SE</td>\n",
       "      <td>Mumbai</td>\n",
       "      <td>2011</td>\n",
       "      <td>87000</td>\n",
       "      <td>Diesel</td>\n",
       "      <td>Automatic</td>\n",
       "      <td>First</td>\n",
       "      <td>0.00</td>\n",
       "      <td>2179 CC</td>\n",
       "      <td>115 bhp</td>\n",
       "      <td>5.0</td>\n",
       "      <td>NaN</td>\n",
       "    </tr>\n",
       "    <tr>\n",
       "      <th>...</th>\n",
       "      <td>...</td>\n",
       "      <td>...</td>\n",
       "      <td>...</td>\n",
       "      <td>...</td>\n",
       "      <td>...</td>\n",
       "      <td>...</td>\n",
       "      <td>...</td>\n",
       "      <td>...</td>\n",
       "      <td>...</td>\n",
       "      <td>...</td>\n",
       "      <td>...</td>\n",
       "      <td>...</td>\n",
       "    </tr>\n",
       "    <tr>\n",
       "      <th>1332</th>\n",
       "      <td>Maruti Wagon R CNG LXI</td>\n",
       "      <td>Pune</td>\n",
       "      <td>2013</td>\n",
       "      <td>79494</td>\n",
       "      <td>CNG</td>\n",
       "      <td>Manual</td>\n",
       "      <td>First</td>\n",
       "      <td>33.54</td>\n",
       "      <td>998 CC</td>\n",
       "      <td>67.04 bhp</td>\n",
       "      <td>5.0</td>\n",
       "      <td>2.96</td>\n",
       "    </tr>\n",
       "    <tr>\n",
       "      <th>4141</th>\n",
       "      <td>Maruti Wagon R CNG LXI</td>\n",
       "      <td>Mumbai</td>\n",
       "      <td>2014</td>\n",
       "      <td>47200</td>\n",
       "      <td>CNG</td>\n",
       "      <td>Manual</td>\n",
       "      <td>First</td>\n",
       "      <td>33.54</td>\n",
       "      <td>998 CC</td>\n",
       "      <td>67.04 bhp</td>\n",
       "      <td>5.0</td>\n",
       "      <td>2.85</td>\n",
       "    </tr>\n",
       "    <tr>\n",
       "      <th>3129</th>\n",
       "      <td>Maruti Wagon R CNG LXI</td>\n",
       "      <td>Delhi</td>\n",
       "      <td>2014</td>\n",
       "      <td>74663</td>\n",
       "      <td>CNG</td>\n",
       "      <td>Manual</td>\n",
       "      <td>First</td>\n",
       "      <td>33.54</td>\n",
       "      <td>998 CC</td>\n",
       "      <td>67.04 bhp</td>\n",
       "      <td>5.0</td>\n",
       "      <td>3.25</td>\n",
       "    </tr>\n",
       "    <tr>\n",
       "      <th>2059</th>\n",
       "      <td>Maruti Wagon R CNG LXI</td>\n",
       "      <td>Mumbai</td>\n",
       "      <td>2013</td>\n",
       "      <td>54000</td>\n",
       "      <td>CNG</td>\n",
       "      <td>Manual</td>\n",
       "      <td>First</td>\n",
       "      <td>33.54</td>\n",
       "      <td>998 CC</td>\n",
       "      <td>67.04 bhp</td>\n",
       "      <td>5.0</td>\n",
       "      <td>3.05</td>\n",
       "    </tr>\n",
       "    <tr>\n",
       "      <th>2371</th>\n",
       "      <td>Maruti Wagon R CNG LXI</td>\n",
       "      <td>Pune</td>\n",
       "      <td>2014</td>\n",
       "      <td>29202</td>\n",
       "      <td>CNG</td>\n",
       "      <td>Manual</td>\n",
       "      <td>First</td>\n",
       "      <td>33.54</td>\n",
       "      <td>998 CC</td>\n",
       "      <td>67.04 bhp</td>\n",
       "      <td>5.0</td>\n",
       "      <td>3.90</td>\n",
       "    </tr>\n",
       "  </tbody>\n",
       "</table>\n",
       "<p>7251 rows × 12 columns</p>\n",
       "</div>"
      ],
      "text/plain": [
       "                                      Name   Location  Year  \\\n",
       "2597                Hyundai Santro Xing XP       Pune  2007   \n",
       "2343                     Hyundai Santro AT  Hyderabad  2006   \n",
       "5270                    Honda City 1.5 GXI  Bangalore  2002   \n",
       "424   Volkswagen Jetta 2007-2011 1.9 L TDI  Hyderabad  2010   \n",
       "6857        Land Rover Freelander 2 TD4 SE     Mumbai  2011   \n",
       "...                                    ...        ...   ...   \n",
       "1332                Maruti Wagon R CNG LXI       Pune  2013   \n",
       "4141                Maruti Wagon R CNG LXI     Mumbai  2014   \n",
       "3129                Maruti Wagon R CNG LXI      Delhi  2014   \n",
       "2059                Maruti Wagon R CNG LXI     Mumbai  2013   \n",
       "2371                Maruti Wagon R CNG LXI       Pune  2014   \n",
       "\n",
       "      Kilometers_Driven Fuel_Type Transmission Owner_Type  Mileage   Engine  \\\n",
       "2597              70000    Petrol       Manual      First     0.00  1086 CC   \n",
       "2343              74483    Petrol    Automatic      First     0.00   999 CC   \n",
       "5270              53000    Petrol       Manual     Second     0.00      NaN   \n",
       "424               42021    Diesel       Manual      First     0.00  1968 CC   \n",
       "6857              87000    Diesel    Automatic      First     0.00  2179 CC   \n",
       "...                 ...       ...          ...        ...      ...      ...   \n",
       "1332              79494       CNG       Manual      First    33.54   998 CC   \n",
       "4141              47200       CNG       Manual      First    33.54   998 CC   \n",
       "3129              74663       CNG       Manual      First    33.54   998 CC   \n",
       "2059              54000       CNG       Manual      First    33.54   998 CC   \n",
       "2371              29202       CNG       Manual      First    33.54   998 CC   \n",
       "\n",
       "          Power  Seats  Price  \n",
       "2597   null bhp    5.0   1.12  \n",
       "2343   null bhp    5.0   2.30  \n",
       "5270        NaN    NaN   1.85  \n",
       "424    null bhp    5.0   5.45  \n",
       "6857    115 bhp    5.0    NaN  \n",
       "...         ...    ...    ...  \n",
       "1332  67.04 bhp    5.0   2.96  \n",
       "4141  67.04 bhp    5.0   2.85  \n",
       "3129  67.04 bhp    5.0   3.25  \n",
       "2059  67.04 bhp    5.0   3.05  \n",
       "2371  67.04 bhp    5.0   3.90  \n",
       "\n",
       "[7251 rows x 12 columns]"
      ]
     },
     "execution_count": 17,
     "metadata": {},
     "output_type": "execute_result"
    }
   ],
   "source": [
    "df.sort_values('Mileage')"
   ]
  },
  {
   "cell_type": "markdown",
   "id": "e71c1c88",
   "metadata": {},
   "source": [
    "#### Mileage column also have entries with 0.0 mileage which need to be replaced"
   ]
  },
  {
   "cell_type": "code",
   "execution_count": 18,
   "id": "24638dd7",
   "metadata": {},
   "outputs": [
    {
     "data": {
      "text/html": [
       "<div>\n",
       "<style scoped>\n",
       "    .dataframe tbody tr th:only-of-type {\n",
       "        vertical-align: middle;\n",
       "    }\n",
       "\n",
       "    .dataframe tbody tr th {\n",
       "        vertical-align: top;\n",
       "    }\n",
       "\n",
       "    .dataframe thead th {\n",
       "        text-align: right;\n",
       "    }\n",
       "</style>\n",
       "<table border=\"1\" class=\"dataframe\">\n",
       "  <thead>\n",
       "    <tr style=\"text-align: right;\">\n",
       "      <th></th>\n",
       "      <th>Name</th>\n",
       "      <th>Location</th>\n",
       "      <th>Year</th>\n",
       "      <th>Kilometers_Driven</th>\n",
       "      <th>Fuel_Type</th>\n",
       "      <th>Transmission</th>\n",
       "      <th>Owner_Type</th>\n",
       "      <th>Mileage</th>\n",
       "      <th>Engine</th>\n",
       "      <th>Power</th>\n",
       "      <th>Seats</th>\n",
       "      <th>Price</th>\n",
       "    </tr>\n",
       "  </thead>\n",
       "  <tbody>\n",
       "    <tr>\n",
       "      <th>14</th>\n",
       "      <td>Land Rover Freelander 2 TD4 SE</td>\n",
       "      <td>Pune</td>\n",
       "      <td>2012</td>\n",
       "      <td>85000</td>\n",
       "      <td>Diesel</td>\n",
       "      <td>Automatic</td>\n",
       "      <td>Second</td>\n",
       "      <td>0.0</td>\n",
       "      <td>2179 CC</td>\n",
       "      <td>115 bhp</td>\n",
       "      <td>5.0</td>\n",
       "      <td>17.50</td>\n",
       "    </tr>\n",
       "    <tr>\n",
       "      <th>67</th>\n",
       "      <td>Mercedes-Benz C-Class Progressive C 220d</td>\n",
       "      <td>Coimbatore</td>\n",
       "      <td>2019</td>\n",
       "      <td>15369</td>\n",
       "      <td>Diesel</td>\n",
       "      <td>Automatic</td>\n",
       "      <td>First</td>\n",
       "      <td>0.0</td>\n",
       "      <td>1950 CC</td>\n",
       "      <td>194 bhp</td>\n",
       "      <td>5.0</td>\n",
       "      <td>35.67</td>\n",
       "    </tr>\n",
       "    <tr>\n",
       "      <th>79</th>\n",
       "      <td>Hyundai Santro Xing XL</td>\n",
       "      <td>Hyderabad</td>\n",
       "      <td>2005</td>\n",
       "      <td>87591</td>\n",
       "      <td>Petrol</td>\n",
       "      <td>Manual</td>\n",
       "      <td>First</td>\n",
       "      <td>0.0</td>\n",
       "      <td>1086 CC</td>\n",
       "      <td>null bhp</td>\n",
       "      <td>5.0</td>\n",
       "      <td>1.30</td>\n",
       "    </tr>\n",
       "    <tr>\n",
       "      <th>194</th>\n",
       "      <td>Honda City 1.5 GXI</td>\n",
       "      <td>Ahmedabad</td>\n",
       "      <td>2007</td>\n",
       "      <td>60006</td>\n",
       "      <td>Petrol</td>\n",
       "      <td>Manual</td>\n",
       "      <td>First</td>\n",
       "      <td>0.0</td>\n",
       "      <td>NaN</td>\n",
       "      <td>NaN</td>\n",
       "      <td>NaN</td>\n",
       "      <td>2.95</td>\n",
       "    </tr>\n",
       "    <tr>\n",
       "      <th>229</th>\n",
       "      <td>Ford Figo Diesel</td>\n",
       "      <td>Bangalore</td>\n",
       "      <td>2015</td>\n",
       "      <td>70436</td>\n",
       "      <td>Diesel</td>\n",
       "      <td>Manual</td>\n",
       "      <td>First</td>\n",
       "      <td>0.0</td>\n",
       "      <td>1498 CC</td>\n",
       "      <td>99 bhp</td>\n",
       "      <td>NaN</td>\n",
       "      <td>3.60</td>\n",
       "    </tr>\n",
       "    <tr>\n",
       "      <th>...</th>\n",
       "      <td>...</td>\n",
       "      <td>...</td>\n",
       "      <td>...</td>\n",
       "      <td>...</td>\n",
       "      <td>...</td>\n",
       "      <td>...</td>\n",
       "      <td>...</td>\n",
       "      <td>...</td>\n",
       "      <td>...</td>\n",
       "      <td>...</td>\n",
       "      <td>...</td>\n",
       "      <td>...</td>\n",
       "    </tr>\n",
       "    <tr>\n",
       "      <th>6633</th>\n",
       "      <td>Mahindra TUV 300 P4</td>\n",
       "      <td>Kolkata</td>\n",
       "      <td>2016</td>\n",
       "      <td>27000</td>\n",
       "      <td>Diesel</td>\n",
       "      <td>Manual</td>\n",
       "      <td>First</td>\n",
       "      <td>0.0</td>\n",
       "      <td>NaN</td>\n",
       "      <td>NaN</td>\n",
       "      <td>NaN</td>\n",
       "      <td>NaN</td>\n",
       "    </tr>\n",
       "    <tr>\n",
       "      <th>6697</th>\n",
       "      <td>Hyundai Santro Xing XL</td>\n",
       "      <td>Jaipur</td>\n",
       "      <td>2007</td>\n",
       "      <td>85000</td>\n",
       "      <td>Petrol</td>\n",
       "      <td>Manual</td>\n",
       "      <td>Second</td>\n",
       "      <td>0.0</td>\n",
       "      <td>1086 CC</td>\n",
       "      <td>null bhp</td>\n",
       "      <td>5.0</td>\n",
       "      <td>NaN</td>\n",
       "    </tr>\n",
       "    <tr>\n",
       "      <th>6857</th>\n",
       "      <td>Land Rover Freelander 2 TD4 SE</td>\n",
       "      <td>Mumbai</td>\n",
       "      <td>2011</td>\n",
       "      <td>87000</td>\n",
       "      <td>Diesel</td>\n",
       "      <td>Automatic</td>\n",
       "      <td>First</td>\n",
       "      <td>0.0</td>\n",
       "      <td>2179 CC</td>\n",
       "      <td>115 bhp</td>\n",
       "      <td>5.0</td>\n",
       "      <td>NaN</td>\n",
       "    </tr>\n",
       "    <tr>\n",
       "      <th>6957</th>\n",
       "      <td>Honda Jazz 2020 Petrol</td>\n",
       "      <td>Kochi</td>\n",
       "      <td>2019</td>\n",
       "      <td>11574</td>\n",
       "      <td>Petrol</td>\n",
       "      <td>Manual</td>\n",
       "      <td>First</td>\n",
       "      <td>0.0</td>\n",
       "      <td>1199 CC</td>\n",
       "      <td>88.7 bhp</td>\n",
       "      <td>NaN</td>\n",
       "      <td>NaN</td>\n",
       "    </tr>\n",
       "    <tr>\n",
       "      <th>7226</th>\n",
       "      <td>Hyundai Santro Xing GL</td>\n",
       "      <td>Ahmedabad</td>\n",
       "      <td>2014</td>\n",
       "      <td>41000</td>\n",
       "      <td>Petrol</td>\n",
       "      <td>Manual</td>\n",
       "      <td>First</td>\n",
       "      <td>0.0</td>\n",
       "      <td>1086 CC</td>\n",
       "      <td>62 bhp</td>\n",
       "      <td>5.0</td>\n",
       "      <td>NaN</td>\n",
       "    </tr>\n",
       "  </tbody>\n",
       "</table>\n",
       "<p>81 rows × 12 columns</p>\n",
       "</div>"
      ],
      "text/plain": [
       "                                          Name    Location  Year  \\\n",
       "14              Land Rover Freelander 2 TD4 SE        Pune  2012   \n",
       "67    Mercedes-Benz C-Class Progressive C 220d  Coimbatore  2019   \n",
       "79                      Hyundai Santro Xing XL   Hyderabad  2005   \n",
       "194                         Honda City 1.5 GXI   Ahmedabad  2007   \n",
       "229                           Ford Figo Diesel   Bangalore  2015   \n",
       "...                                        ...         ...   ...   \n",
       "6633                       Mahindra TUV 300 P4     Kolkata  2016   \n",
       "6697                    Hyundai Santro Xing XL      Jaipur  2007   \n",
       "6857            Land Rover Freelander 2 TD4 SE      Mumbai  2011   \n",
       "6957                    Honda Jazz 2020 Petrol       Kochi  2019   \n",
       "7226                    Hyundai Santro Xing GL   Ahmedabad  2014   \n",
       "\n",
       "      Kilometers_Driven Fuel_Type Transmission Owner_Type  Mileage   Engine  \\\n",
       "14                85000    Diesel    Automatic     Second      0.0  2179 CC   \n",
       "67                15369    Diesel    Automatic      First      0.0  1950 CC   \n",
       "79                87591    Petrol       Manual      First      0.0  1086 CC   \n",
       "194               60006    Petrol       Manual      First      0.0      NaN   \n",
       "229               70436    Diesel       Manual      First      0.0  1498 CC   \n",
       "...                 ...       ...          ...        ...      ...      ...   \n",
       "6633              27000    Diesel       Manual      First      0.0      NaN   \n",
       "6697              85000    Petrol       Manual     Second      0.0  1086 CC   \n",
       "6857              87000    Diesel    Automatic      First      0.0  2179 CC   \n",
       "6957              11574    Petrol       Manual      First      0.0  1199 CC   \n",
       "7226              41000    Petrol       Manual      First      0.0  1086 CC   \n",
       "\n",
       "         Power  Seats  Price  \n",
       "14     115 bhp    5.0  17.50  \n",
       "67     194 bhp    5.0  35.67  \n",
       "79    null bhp    5.0   1.30  \n",
       "194        NaN    NaN   2.95  \n",
       "229     99 bhp    NaN   3.60  \n",
       "...        ...    ...    ...  \n",
       "6633       NaN    NaN    NaN  \n",
       "6697  null bhp    5.0    NaN  \n",
       "6857   115 bhp    5.0    NaN  \n",
       "6957  88.7 bhp    NaN    NaN  \n",
       "7226    62 bhp    5.0    NaN  \n",
       "\n",
       "[81 rows x 12 columns]"
      ]
     },
     "execution_count": 18,
     "metadata": {},
     "output_type": "execute_result"
    }
   ],
   "source": [
    "df.query(\"Mileage==0.0\")"
   ]
  },
  {
   "cell_type": "code",
   "execution_count": 19,
   "id": "a5a816ab",
   "metadata": {},
   "outputs": [
    {
     "data": {
      "text/plain": [
       "18.16"
      ]
     },
     "execution_count": 19,
     "metadata": {},
     "output_type": "execute_result"
    }
   ],
   "source": [
    "df.Mileage.median()"
   ]
  },
  {
   "cell_type": "code",
   "execution_count": 20,
   "id": "2e75f171",
   "metadata": {},
   "outputs": [],
   "source": [
    "# replace the 0.0 value with mean value\n",
    "df.Mileage.replace({0.0:df.Mileage.median()},inplace=True)"
   ]
  },
  {
   "cell_type": "code",
   "execution_count": 21,
   "id": "8fb5e1d9",
   "metadata": {},
   "outputs": [
    {
     "data": {
      "text/html": [
       "<div>\n",
       "<style scoped>\n",
       "    .dataframe tbody tr th:only-of-type {\n",
       "        vertical-align: middle;\n",
       "    }\n",
       "\n",
       "    .dataframe tbody tr th {\n",
       "        vertical-align: top;\n",
       "    }\n",
       "\n",
       "    .dataframe thead th {\n",
       "        text-align: right;\n",
       "    }\n",
       "</style>\n",
       "<table border=\"1\" class=\"dataframe\">\n",
       "  <thead>\n",
       "    <tr style=\"text-align: right;\">\n",
       "      <th></th>\n",
       "      <th>Name</th>\n",
       "      <th>Location</th>\n",
       "      <th>Year</th>\n",
       "      <th>Kilometers_Driven</th>\n",
       "      <th>Fuel_Type</th>\n",
       "      <th>Transmission</th>\n",
       "      <th>Owner_Type</th>\n",
       "      <th>Mileage</th>\n",
       "      <th>Engine</th>\n",
       "      <th>Power</th>\n",
       "      <th>Seats</th>\n",
       "      <th>Price</th>\n",
       "    </tr>\n",
       "  </thead>\n",
       "  <tbody>\n",
       "  </tbody>\n",
       "</table>\n",
       "</div>"
      ],
      "text/plain": [
       "Empty DataFrame\n",
       "Columns: [Name, Location, Year, Kilometers_Driven, Fuel_Type, Transmission, Owner_Type, Mileage, Engine, Power, Seats, Price]\n",
       "Index: []"
      ]
     },
     "execution_count": 21,
     "metadata": {},
     "output_type": "execute_result"
    }
   ],
   "source": [
    "df.query(\"Mileage==0.0\")"
   ]
  },
  {
   "cell_type": "markdown",
   "id": "b7ce6bfc",
   "metadata": {},
   "source": [
    "## Engine"
   ]
  },
  {
   "cell_type": "code",
   "execution_count": 22,
   "id": "77cf4e3c",
   "metadata": {},
   "outputs": [],
   "source": [
    "#numeric = df[df.Engine.isna()]['Name'].str.extract(r'(\\d+\\.\\d+)')[0].unique()"
   ]
  },
  {
   "cell_type": "code",
   "execution_count": 23,
   "id": "94bd3f1b",
   "metadata": {},
   "outputs": [],
   "source": [
    "#for name in df.Name:\n",
    "#    if '1.2' in name:\n",
    "#        print(name)"
   ]
  },
  {
   "cell_type": "code",
   "execution_count": 24,
   "id": "5475725d",
   "metadata": {},
   "outputs": [],
   "source": [
    "#df[df.Name=='Honda City 1.5 V AT Sunroof']['Engine'].values[0]\n",
    "#df.dropna(subset='Engine',inplace=True)"
   ]
  },
  {
   "cell_type": "code",
   "execution_count": 25,
   "id": "8e549181",
   "metadata": {},
   "outputs": [
    {
     "data": {
      "text/plain": [
       "0    1197 CC\n",
       "Name: Engine, dtype: object"
      ]
     },
     "execution_count": 25,
     "metadata": {},
     "output_type": "execute_result"
    }
   ],
   "source": [
    "df.Engine.mode()"
   ]
  },
  {
   "cell_type": "code",
   "execution_count": 26,
   "id": "863ca78d",
   "metadata": {},
   "outputs": [],
   "source": [
    "df.Engine.fillna(df.Engine.mode()[0],inplace=True)"
   ]
  },
  {
   "cell_type": "code",
   "execution_count": 27,
   "id": "396b7714",
   "metadata": {},
   "outputs": [],
   "source": [
    "# extract only number and convert into int\n",
    "\n",
    "df.Engine = df.Engine.str.strip(' CC').astype(int)"
   ]
  },
  {
   "cell_type": "code",
   "execution_count": 28,
   "id": "4a5b7a17",
   "metadata": {},
   "outputs": [
    {
     "data": {
      "text/html": [
       "<div>\n",
       "<style scoped>\n",
       "    .dataframe tbody tr th:only-of-type {\n",
       "        vertical-align: middle;\n",
       "    }\n",
       "\n",
       "    .dataframe tbody tr th {\n",
       "        vertical-align: top;\n",
       "    }\n",
       "\n",
       "    .dataframe thead th {\n",
       "        text-align: right;\n",
       "    }\n",
       "</style>\n",
       "<table border=\"1\" class=\"dataframe\">\n",
       "  <thead>\n",
       "    <tr style=\"text-align: right;\">\n",
       "      <th></th>\n",
       "      <th>Name</th>\n",
       "      <th>Location</th>\n",
       "      <th>Year</th>\n",
       "      <th>Kilometers_Driven</th>\n",
       "      <th>Fuel_Type</th>\n",
       "      <th>Transmission</th>\n",
       "      <th>Owner_Type</th>\n",
       "      <th>Mileage</th>\n",
       "      <th>Engine</th>\n",
       "      <th>Power</th>\n",
       "      <th>Seats</th>\n",
       "      <th>Price</th>\n",
       "    </tr>\n",
       "  </thead>\n",
       "  <tbody>\n",
       "    <tr>\n",
       "      <th>0</th>\n",
       "      <td>Maruti Wagon R LXI CNG</td>\n",
       "      <td>Mumbai</td>\n",
       "      <td>2010</td>\n",
       "      <td>72000</td>\n",
       "      <td>CNG</td>\n",
       "      <td>Manual</td>\n",
       "      <td>First</td>\n",
       "      <td>26.60</td>\n",
       "      <td>998</td>\n",
       "      <td>58.16 bhp</td>\n",
       "      <td>5.0</td>\n",
       "      <td>1.75</td>\n",
       "    </tr>\n",
       "    <tr>\n",
       "      <th>1</th>\n",
       "      <td>Hyundai Creta 1.6 CRDi SX Option</td>\n",
       "      <td>Pune</td>\n",
       "      <td>2015</td>\n",
       "      <td>41000</td>\n",
       "      <td>Diesel</td>\n",
       "      <td>Manual</td>\n",
       "      <td>First</td>\n",
       "      <td>19.67</td>\n",
       "      <td>1582</td>\n",
       "      <td>126.2 bhp</td>\n",
       "      <td>5.0</td>\n",
       "      <td>12.50</td>\n",
       "    </tr>\n",
       "    <tr>\n",
       "      <th>2</th>\n",
       "      <td>Honda Jazz V</td>\n",
       "      <td>Chennai</td>\n",
       "      <td>2011</td>\n",
       "      <td>46000</td>\n",
       "      <td>Petrol</td>\n",
       "      <td>Manual</td>\n",
       "      <td>First</td>\n",
       "      <td>18.20</td>\n",
       "      <td>1199</td>\n",
       "      <td>88.7 bhp</td>\n",
       "      <td>5.0</td>\n",
       "      <td>4.50</td>\n",
       "    </tr>\n",
       "  </tbody>\n",
       "</table>\n",
       "</div>"
      ],
      "text/plain": [
       "                               Name Location  Year  Kilometers_Driven  \\\n",
       "0            Maruti Wagon R LXI CNG   Mumbai  2010              72000   \n",
       "1  Hyundai Creta 1.6 CRDi SX Option     Pune  2015              41000   \n",
       "2                      Honda Jazz V  Chennai  2011              46000   \n",
       "\n",
       "  Fuel_Type Transmission Owner_Type  Mileage  Engine      Power  Seats  Price  \n",
       "0       CNG       Manual      First    26.60     998  58.16 bhp    5.0   1.75  \n",
       "1    Diesel       Manual      First    19.67    1582  126.2 bhp    5.0  12.50  \n",
       "2    Petrol       Manual      First    18.20    1199   88.7 bhp    5.0   4.50  "
      ]
     },
     "execution_count": 28,
     "metadata": {},
     "output_type": "execute_result"
    }
   ],
   "source": [
    "df[:3]"
   ]
  },
  {
   "cell_type": "code",
   "execution_count": 29,
   "id": "7b4794d0",
   "metadata": {},
   "outputs": [],
   "source": [
    "#mode = df[df.Engine.notnull()==True]['Engine'].str.strip(' CC').astype(int).mode()[0]\n",
    "#mode"
   ]
  },
  {
   "cell_type": "markdown",
   "id": "c54b7fef",
   "metadata": {},
   "source": [
    "## Seats"
   ]
  },
  {
   "cell_type": "code",
   "execution_count": 30,
   "id": "59cf613c",
   "metadata": {},
   "outputs": [
    {
     "data": {
      "text/plain": [
       "array([ 5.,  7.,  8.,  4.,  6.,  2., nan, 10.,  9.,  0.])"
      ]
     },
     "execution_count": 30,
     "metadata": {},
     "output_type": "execute_result"
    }
   ],
   "source": [
    "df.Seats.unique()"
   ]
  },
  {
   "cell_type": "markdown",
   "id": "6d7a584d",
   "metadata": {},
   "source": [
    "Here we can see that Seats with 0 unique value, so we need to also deal with it by replacing it with mode"
   ]
  },
  {
   "cell_type": "code",
   "execution_count": 31,
   "id": "c5fcc3c8",
   "metadata": {},
   "outputs": [
    {
     "data": {
      "text/html": [
       "<div>\n",
       "<style scoped>\n",
       "    .dataframe tbody tr th:only-of-type {\n",
       "        vertical-align: middle;\n",
       "    }\n",
       "\n",
       "    .dataframe tbody tr th {\n",
       "        vertical-align: top;\n",
       "    }\n",
       "\n",
       "    .dataframe thead th {\n",
       "        text-align: right;\n",
       "    }\n",
       "</style>\n",
       "<table border=\"1\" class=\"dataframe\">\n",
       "  <thead>\n",
       "    <tr style=\"text-align: right;\">\n",
       "      <th></th>\n",
       "      <th>Name</th>\n",
       "      <th>Location</th>\n",
       "      <th>Year</th>\n",
       "      <th>Kilometers_Driven</th>\n",
       "      <th>Fuel_Type</th>\n",
       "      <th>Transmission</th>\n",
       "      <th>Owner_Type</th>\n",
       "      <th>Mileage</th>\n",
       "      <th>Engine</th>\n",
       "      <th>Power</th>\n",
       "      <th>Seats</th>\n",
       "      <th>Price</th>\n",
       "    </tr>\n",
       "  </thead>\n",
       "  <tbody>\n",
       "    <tr>\n",
       "      <th>3999</th>\n",
       "      <td>Audi A4 3.2 FSI Tiptronic Quattro</td>\n",
       "      <td>Hyderabad</td>\n",
       "      <td>2012</td>\n",
       "      <td>125000</td>\n",
       "      <td>Petrol</td>\n",
       "      <td>Automatic</td>\n",
       "      <td>First</td>\n",
       "      <td>10.5</td>\n",
       "      <td>3197</td>\n",
       "      <td>null bhp</td>\n",
       "      <td>0.0</td>\n",
       "      <td>18.0</td>\n",
       "    </tr>\n",
       "  </tbody>\n",
       "</table>\n",
       "</div>"
      ],
      "text/plain": [
       "                                   Name   Location  Year  Kilometers_Driven  \\\n",
       "3999  Audi A4 3.2 FSI Tiptronic Quattro  Hyderabad  2012             125000   \n",
       "\n",
       "     Fuel_Type Transmission Owner_Type  Mileage  Engine     Power  Seats  \\\n",
       "3999    Petrol    Automatic      First     10.5    3197  null bhp    0.0   \n",
       "\n",
       "      Price  \n",
       "3999   18.0  "
      ]
     },
     "execution_count": 31,
     "metadata": {},
     "output_type": "execute_result"
    }
   ],
   "source": [
    "df.query(\"Seats==0\")"
   ]
  },
  {
   "cell_type": "code",
   "execution_count": 32,
   "id": "584e5613",
   "metadata": {},
   "outputs": [],
   "source": [
    "df.Seats = df.Seats.replace({0.0:5.0})"
   ]
  },
  {
   "cell_type": "code",
   "execution_count": 33,
   "id": "2dc8ddb8",
   "metadata": {},
   "outputs": [
    {
     "data": {
      "text/html": [
       "<div>\n",
       "<style scoped>\n",
       "    .dataframe tbody tr th:only-of-type {\n",
       "        vertical-align: middle;\n",
       "    }\n",
       "\n",
       "    .dataframe tbody tr th {\n",
       "        vertical-align: top;\n",
       "    }\n",
       "\n",
       "    .dataframe thead th {\n",
       "        text-align: right;\n",
       "    }\n",
       "</style>\n",
       "<table border=\"1\" class=\"dataframe\">\n",
       "  <thead>\n",
       "    <tr style=\"text-align: right;\">\n",
       "      <th></th>\n",
       "      <th>Name</th>\n",
       "      <th>Location</th>\n",
       "      <th>Year</th>\n",
       "      <th>Kilometers_Driven</th>\n",
       "      <th>Fuel_Type</th>\n",
       "      <th>Transmission</th>\n",
       "      <th>Owner_Type</th>\n",
       "      <th>Mileage</th>\n",
       "      <th>Engine</th>\n",
       "      <th>Power</th>\n",
       "      <th>Seats</th>\n",
       "      <th>Price</th>\n",
       "    </tr>\n",
       "  </thead>\n",
       "  <tbody>\n",
       "  </tbody>\n",
       "</table>\n",
       "</div>"
      ],
      "text/plain": [
       "Empty DataFrame\n",
       "Columns: [Name, Location, Year, Kilometers_Driven, Fuel_Type, Transmission, Owner_Type, Mileage, Engine, Power, Seats, Price]\n",
       "Index: []"
      ]
     },
     "execution_count": 33,
     "metadata": {},
     "output_type": "execute_result"
    }
   ],
   "source": [
    "df.query(\"Seats==0\")"
   ]
  },
  {
   "cell_type": "code",
   "execution_count": 34,
   "id": "828daa77",
   "metadata": {},
   "outputs": [],
   "source": [
    "# filling NaN with mode of seats\n",
    "\n",
    "df['Seats'] = df['Seats'].fillna(df.Seats.mode()[0])"
   ]
  },
  {
   "cell_type": "code",
   "execution_count": 35,
   "id": "7e50b6a4",
   "metadata": {},
   "outputs": [
    {
     "data": {
      "text/plain": [
       "Name                    0\n",
       "Location                0\n",
       "Year                    0\n",
       "Kilometers_Driven       0\n",
       "Fuel_Type               0\n",
       "Transmission            0\n",
       "Owner_Type              0\n",
       "Mileage                 0\n",
       "Engine                  0\n",
       "Power                  46\n",
       "Seats                   0\n",
       "Price                1234\n",
       "dtype: int64"
      ]
     },
     "execution_count": 35,
     "metadata": {},
     "output_type": "execute_result"
    }
   ],
   "source": [
    "df.isna().sum()"
   ]
  },
  {
   "cell_type": "markdown",
   "id": "08509ee4",
   "metadata": {},
   "source": [
    "## Power"
   ]
  },
  {
   "cell_type": "code",
   "execution_count": 36,
   "id": "46e3404d",
   "metadata": {},
   "outputs": [
    {
     "data": {
      "text/plain": [
       "74 bhp        280\n",
       "98.6 bhp      166\n",
       "73.9 bhp      152\n",
       "140 bhp       142\n",
       "null bhp      129\n",
       "             ... \n",
       "500 bhp         1\n",
       "395 bhp         1\n",
       "181.43 bhp      1\n",
       "421 bhp         1\n",
       "241.6 bhp       1\n",
       "Name: Power, Length: 385, dtype: int64"
      ]
     },
     "execution_count": 36,
     "metadata": {},
     "output_type": "execute_result"
    }
   ],
   "source": [
    "df.Power.value_counts()"
   ]
  },
  {
   "cell_type": "markdown",
   "id": "ac72d732",
   "metadata": {},
   "source": [
    "#### With Nan Values the Power Column also have \"null bhp\" entry so we need to fill these both values"
   ]
  },
  {
   "cell_type": "code",
   "execution_count": 37,
   "id": "390eccb9",
   "metadata": {},
   "outputs": [
    {
     "data": {
      "text/html": [
       "<div>\n",
       "<style scoped>\n",
       "    .dataframe tbody tr th:only-of-type {\n",
       "        vertical-align: middle;\n",
       "    }\n",
       "\n",
       "    .dataframe tbody tr th {\n",
       "        vertical-align: top;\n",
       "    }\n",
       "\n",
       "    .dataframe thead th {\n",
       "        text-align: right;\n",
       "    }\n",
       "</style>\n",
       "<table border=\"1\" class=\"dataframe\">\n",
       "  <thead>\n",
       "    <tr style=\"text-align: right;\">\n",
       "      <th></th>\n",
       "      <th>Name</th>\n",
       "      <th>Location</th>\n",
       "      <th>Year</th>\n",
       "      <th>Kilometers_Driven</th>\n",
       "      <th>Fuel_Type</th>\n",
       "      <th>Transmission</th>\n",
       "      <th>Owner_Type</th>\n",
       "      <th>Mileage</th>\n",
       "      <th>Engine</th>\n",
       "      <th>Power</th>\n",
       "      <th>Seats</th>\n",
       "      <th>Price</th>\n",
       "    </tr>\n",
       "  </thead>\n",
       "  <tbody>\n",
       "    <tr>\n",
       "      <th>76</th>\n",
       "      <td>Ford Fiesta 1.4 SXi TDCi</td>\n",
       "      <td>Jaipur</td>\n",
       "      <td>2008</td>\n",
       "      <td>111111</td>\n",
       "      <td>Diesel</td>\n",
       "      <td>Manual</td>\n",
       "      <td>First</td>\n",
       "      <td>17.80</td>\n",
       "      <td>1399</td>\n",
       "      <td>null bhp</td>\n",
       "      <td>5.0</td>\n",
       "      <td>2.00</td>\n",
       "    </tr>\n",
       "    <tr>\n",
       "      <th>79</th>\n",
       "      <td>Hyundai Santro Xing XL</td>\n",
       "      <td>Hyderabad</td>\n",
       "      <td>2005</td>\n",
       "      <td>87591</td>\n",
       "      <td>Petrol</td>\n",
       "      <td>Manual</td>\n",
       "      <td>First</td>\n",
       "      <td>18.16</td>\n",
       "      <td>1086</td>\n",
       "      <td>null bhp</td>\n",
       "      <td>5.0</td>\n",
       "      <td>1.30</td>\n",
       "    </tr>\n",
       "    <tr>\n",
       "      <th>89</th>\n",
       "      <td>Hyundai Santro Xing XO</td>\n",
       "      <td>Hyderabad</td>\n",
       "      <td>2007</td>\n",
       "      <td>73745</td>\n",
       "      <td>Petrol</td>\n",
       "      <td>Manual</td>\n",
       "      <td>First</td>\n",
       "      <td>17.00</td>\n",
       "      <td>1086</td>\n",
       "      <td>null bhp</td>\n",
       "      <td>5.0</td>\n",
       "      <td>2.10</td>\n",
       "    </tr>\n",
       "    <tr>\n",
       "      <th>120</th>\n",
       "      <td>Hyundai Santro Xing XL eRLX Euro III</td>\n",
       "      <td>Mumbai</td>\n",
       "      <td>2005</td>\n",
       "      <td>102000</td>\n",
       "      <td>Petrol</td>\n",
       "      <td>Manual</td>\n",
       "      <td>Second</td>\n",
       "      <td>17.00</td>\n",
       "      <td>1086</td>\n",
       "      <td>null bhp</td>\n",
       "      <td>5.0</td>\n",
       "      <td>0.85</td>\n",
       "    </tr>\n",
       "    <tr>\n",
       "      <th>143</th>\n",
       "      <td>Hyundai Santro Xing XO eRLX Euro II</td>\n",
       "      <td>Kochi</td>\n",
       "      <td>2008</td>\n",
       "      <td>80759</td>\n",
       "      <td>Petrol</td>\n",
       "      <td>Manual</td>\n",
       "      <td>Third</td>\n",
       "      <td>17.00</td>\n",
       "      <td>1086</td>\n",
       "      <td>null bhp</td>\n",
       "      <td>5.0</td>\n",
       "      <td>1.67</td>\n",
       "    </tr>\n",
       "    <tr>\n",
       "      <th>...</th>\n",
       "      <td>...</td>\n",
       "      <td>...</td>\n",
       "      <td>...</td>\n",
       "      <td>...</td>\n",
       "      <td>...</td>\n",
       "      <td>...</td>\n",
       "      <td>...</td>\n",
       "      <td>...</td>\n",
       "      <td>...</td>\n",
       "      <td>...</td>\n",
       "      <td>...</td>\n",
       "      <td>...</td>\n",
       "    </tr>\n",
       "    <tr>\n",
       "      <th>6891</th>\n",
       "      <td>Toyota Etios GD</td>\n",
       "      <td>Kolkata</td>\n",
       "      <td>2013</td>\n",
       "      <td>60000</td>\n",
       "      <td>Diesel</td>\n",
       "      <td>Manual</td>\n",
       "      <td>First</td>\n",
       "      <td>23.59</td>\n",
       "      <td>1364</td>\n",
       "      <td>null bhp</td>\n",
       "      <td>5.0</td>\n",
       "      <td>NaN</td>\n",
       "    </tr>\n",
       "    <tr>\n",
       "      <th>6896</th>\n",
       "      <td>Toyota Etios Liva GD</td>\n",
       "      <td>Hyderabad</td>\n",
       "      <td>2013</td>\n",
       "      <td>86000</td>\n",
       "      <td>Diesel</td>\n",
       "      <td>Manual</td>\n",
       "      <td>First</td>\n",
       "      <td>23.59</td>\n",
       "      <td>1364</td>\n",
       "      <td>null bhp</td>\n",
       "      <td>5.0</td>\n",
       "      <td>NaN</td>\n",
       "    </tr>\n",
       "    <tr>\n",
       "      <th>6947</th>\n",
       "      <td>Toyota Etios Liva G</td>\n",
       "      <td>Delhi</td>\n",
       "      <td>2012</td>\n",
       "      <td>77800</td>\n",
       "      <td>Petrol</td>\n",
       "      <td>Manual</td>\n",
       "      <td>First</td>\n",
       "      <td>18.30</td>\n",
       "      <td>1197</td>\n",
       "      <td>null bhp</td>\n",
       "      <td>5.0</td>\n",
       "      <td>NaN</td>\n",
       "    </tr>\n",
       "    <tr>\n",
       "      <th>7092</th>\n",
       "      <td>Hyundai Santro Xing XG AT eRLX Euro III</td>\n",
       "      <td>Coimbatore</td>\n",
       "      <td>2007</td>\n",
       "      <td>64168</td>\n",
       "      <td>Petrol</td>\n",
       "      <td>Automatic</td>\n",
       "      <td>First</td>\n",
       "      <td>17.00</td>\n",
       "      <td>1086</td>\n",
       "      <td>null bhp</td>\n",
       "      <td>5.0</td>\n",
       "      <td>NaN</td>\n",
       "    </tr>\n",
       "    <tr>\n",
       "      <th>7145</th>\n",
       "      <td>Toyota Etios Liva G</td>\n",
       "      <td>Kolkata</td>\n",
       "      <td>2012</td>\n",
       "      <td>37212</td>\n",
       "      <td>Petrol</td>\n",
       "      <td>Manual</td>\n",
       "      <td>First</td>\n",
       "      <td>18.30</td>\n",
       "      <td>1197</td>\n",
       "      <td>null bhp</td>\n",
       "      <td>5.0</td>\n",
       "      <td>NaN</td>\n",
       "    </tr>\n",
       "  </tbody>\n",
       "</table>\n",
       "<p>129 rows × 12 columns</p>\n",
       "</div>"
      ],
      "text/plain": [
       "                                         Name    Location  Year  \\\n",
       "76                   Ford Fiesta 1.4 SXi TDCi      Jaipur  2008   \n",
       "79                     Hyundai Santro Xing XL   Hyderabad  2005   \n",
       "89                     Hyundai Santro Xing XO   Hyderabad  2007   \n",
       "120      Hyundai Santro Xing XL eRLX Euro III      Mumbai  2005   \n",
       "143       Hyundai Santro Xing XO eRLX Euro II       Kochi  2008   \n",
       "...                                       ...         ...   ...   \n",
       "6891                          Toyota Etios GD     Kolkata  2013   \n",
       "6896                     Toyota Etios Liva GD   Hyderabad  2013   \n",
       "6947                      Toyota Etios Liva G       Delhi  2012   \n",
       "7092  Hyundai Santro Xing XG AT eRLX Euro III  Coimbatore  2007   \n",
       "7145                      Toyota Etios Liva G     Kolkata  2012   \n",
       "\n",
       "      Kilometers_Driven Fuel_Type Transmission Owner_Type  Mileage  Engine  \\\n",
       "76               111111    Diesel       Manual      First    17.80    1399   \n",
       "79                87591    Petrol       Manual      First    18.16    1086   \n",
       "89                73745    Petrol       Manual      First    17.00    1086   \n",
       "120              102000    Petrol       Manual     Second    17.00    1086   \n",
       "143               80759    Petrol       Manual      Third    17.00    1086   \n",
       "...                 ...       ...          ...        ...      ...     ...   \n",
       "6891              60000    Diesel       Manual      First    23.59    1364   \n",
       "6896              86000    Diesel       Manual      First    23.59    1364   \n",
       "6947              77800    Petrol       Manual      First    18.30    1197   \n",
       "7092              64168    Petrol    Automatic      First    17.00    1086   \n",
       "7145              37212    Petrol       Manual      First    18.30    1197   \n",
       "\n",
       "         Power  Seats  Price  \n",
       "76    null bhp    5.0   2.00  \n",
       "79    null bhp    5.0   1.30  \n",
       "89    null bhp    5.0   2.10  \n",
       "120   null bhp    5.0   0.85  \n",
       "143   null bhp    5.0   1.67  \n",
       "...        ...    ...    ...  \n",
       "6891  null bhp    5.0    NaN  \n",
       "6896  null bhp    5.0    NaN  \n",
       "6947  null bhp    5.0    NaN  \n",
       "7092  null bhp    5.0    NaN  \n",
       "7145  null bhp    5.0    NaN  \n",
       "\n",
       "[129 rows x 12 columns]"
      ]
     },
     "execution_count": 37,
     "metadata": {},
     "output_type": "execute_result"
    }
   ],
   "source": [
    "df[df.Power == 'null bhp']"
   ]
  },
  {
   "cell_type": "markdown",
   "id": "68ffcaff",
   "metadata": {},
   "source": [
    "#### Replacing the null values and NaN with mode of the column"
   ]
  },
  {
   "cell_type": "code",
   "execution_count": 38,
   "id": "a6b7bfaf",
   "metadata": {},
   "outputs": [
    {
     "data": {
      "text/plain": [
       "'74 bhp'"
      ]
     },
     "execution_count": 38,
     "metadata": {},
     "output_type": "execute_result"
    }
   ],
   "source": [
    "df.Power.mode()[0]"
   ]
  },
  {
   "cell_type": "code",
   "execution_count": 39,
   "id": "b27d7ae7",
   "metadata": {},
   "outputs": [],
   "source": [
    "df.Power.fillna(df.Power.mode()[0],inplace=True)"
   ]
  },
  {
   "cell_type": "code",
   "execution_count": 40,
   "id": "46a184ea",
   "metadata": {},
   "outputs": [],
   "source": [
    "df.Power.replace({'null bhp':df.Power.mode()[0]}, inplace=True)"
   ]
  },
  {
   "cell_type": "code",
   "execution_count": 41,
   "id": "6d36d980",
   "metadata": {},
   "outputs": [
    {
     "data": {
      "text/plain": [
       "0       58.16 bhp\n",
       "1       126.2 bhp\n",
       "2        88.7 bhp\n",
       "3       88.76 bhp\n",
       "4       140.8 bhp\n",
       "          ...    \n",
       "7248    103.6 bhp\n",
       "7249    103.6 bhp\n",
       "7250     63.1 bhp\n",
       "7251    103.6 bhp\n",
       "7252      170 bhp\n",
       "Name: Power, Length: 7251, dtype: object"
      ]
     },
     "execution_count": 41,
     "metadata": {},
     "output_type": "execute_result"
    }
   ],
   "source": [
    "df.Power"
   ]
  },
  {
   "cell_type": "code",
   "execution_count": 42,
   "id": "7b5f18bc",
   "metadata": {},
   "outputs": [
    {
     "data": {
      "text/plain": [
       "0"
      ]
     },
     "execution_count": 42,
     "metadata": {},
     "output_type": "execute_result"
    }
   ],
   "source": [
    "df.Power.isna().sum()"
   ]
  },
  {
   "cell_type": "code",
   "execution_count": 43,
   "id": "e322b683",
   "metadata": {},
   "outputs": [
    {
     "data": {
      "text/html": [
       "<div>\n",
       "<style scoped>\n",
       "    .dataframe tbody tr th:only-of-type {\n",
       "        vertical-align: middle;\n",
       "    }\n",
       "\n",
       "    .dataframe tbody tr th {\n",
       "        vertical-align: top;\n",
       "    }\n",
       "\n",
       "    .dataframe thead th {\n",
       "        text-align: right;\n",
       "    }\n",
       "</style>\n",
       "<table border=\"1\" class=\"dataframe\">\n",
       "  <thead>\n",
       "    <tr style=\"text-align: right;\">\n",
       "      <th></th>\n",
       "      <th>Name</th>\n",
       "      <th>Location</th>\n",
       "      <th>Year</th>\n",
       "      <th>Kilometers_Driven</th>\n",
       "      <th>Fuel_Type</th>\n",
       "      <th>Transmission</th>\n",
       "      <th>Owner_Type</th>\n",
       "      <th>Mileage</th>\n",
       "      <th>Engine</th>\n",
       "      <th>Power</th>\n",
       "      <th>Seats</th>\n",
       "      <th>Price</th>\n",
       "    </tr>\n",
       "  </thead>\n",
       "  <tbody>\n",
       "  </tbody>\n",
       "</table>\n",
       "</div>"
      ],
      "text/plain": [
       "Empty DataFrame\n",
       "Columns: [Name, Location, Year, Kilometers_Driven, Fuel_Type, Transmission, Owner_Type, Mileage, Engine, Power, Seats, Price]\n",
       "Index: []"
      ]
     },
     "execution_count": 43,
     "metadata": {},
     "output_type": "execute_result"
    }
   ],
   "source": [
    "df[df.Power == 'null bhp']"
   ]
  },
  {
   "cell_type": "code",
   "execution_count": 44,
   "id": "30e0e009",
   "metadata": {},
   "outputs": [],
   "source": [
    "# Extracting the numerical part and changging the dtype of Power\n",
    "\n",
    "df.Power = df.Power.str.strip(' bhp').astype(float)"
   ]
  },
  {
   "cell_type": "code",
   "execution_count": 45,
   "id": "96c811d6",
   "metadata": {},
   "outputs": [
    {
     "data": {
      "text/html": [
       "<div>\n",
       "<style scoped>\n",
       "    .dataframe tbody tr th:only-of-type {\n",
       "        vertical-align: middle;\n",
       "    }\n",
       "\n",
       "    .dataframe tbody tr th {\n",
       "        vertical-align: top;\n",
       "    }\n",
       "\n",
       "    .dataframe thead th {\n",
       "        text-align: right;\n",
       "    }\n",
       "</style>\n",
       "<table border=\"1\" class=\"dataframe\">\n",
       "  <thead>\n",
       "    <tr style=\"text-align: right;\">\n",
       "      <th></th>\n",
       "      <th>Name</th>\n",
       "      <th>Location</th>\n",
       "      <th>Year</th>\n",
       "      <th>Kilometers_Driven</th>\n",
       "      <th>Fuel_Type</th>\n",
       "      <th>Transmission</th>\n",
       "      <th>Owner_Type</th>\n",
       "      <th>Mileage</th>\n",
       "      <th>Engine</th>\n",
       "      <th>Power</th>\n",
       "      <th>Seats</th>\n",
       "      <th>Price</th>\n",
       "    </tr>\n",
       "  </thead>\n",
       "  <tbody>\n",
       "    <tr>\n",
       "      <th>0</th>\n",
       "      <td>Maruti Wagon R LXI CNG</td>\n",
       "      <td>Mumbai</td>\n",
       "      <td>2010</td>\n",
       "      <td>72000</td>\n",
       "      <td>CNG</td>\n",
       "      <td>Manual</td>\n",
       "      <td>First</td>\n",
       "      <td>26.60</td>\n",
       "      <td>998</td>\n",
       "      <td>58.16</td>\n",
       "      <td>5.0</td>\n",
       "      <td>1.75</td>\n",
       "    </tr>\n",
       "    <tr>\n",
       "      <th>1</th>\n",
       "      <td>Hyundai Creta 1.6 CRDi SX Option</td>\n",
       "      <td>Pune</td>\n",
       "      <td>2015</td>\n",
       "      <td>41000</td>\n",
       "      <td>Diesel</td>\n",
       "      <td>Manual</td>\n",
       "      <td>First</td>\n",
       "      <td>19.67</td>\n",
       "      <td>1582</td>\n",
       "      <td>126.20</td>\n",
       "      <td>5.0</td>\n",
       "      <td>12.50</td>\n",
       "    </tr>\n",
       "    <tr>\n",
       "      <th>2</th>\n",
       "      <td>Honda Jazz V</td>\n",
       "      <td>Chennai</td>\n",
       "      <td>2011</td>\n",
       "      <td>46000</td>\n",
       "      <td>Petrol</td>\n",
       "      <td>Manual</td>\n",
       "      <td>First</td>\n",
       "      <td>18.20</td>\n",
       "      <td>1199</td>\n",
       "      <td>88.70</td>\n",
       "      <td>5.0</td>\n",
       "      <td>4.50</td>\n",
       "    </tr>\n",
       "  </tbody>\n",
       "</table>\n",
       "</div>"
      ],
      "text/plain": [
       "                               Name Location  Year  Kilometers_Driven  \\\n",
       "0            Maruti Wagon R LXI CNG   Mumbai  2010              72000   \n",
       "1  Hyundai Creta 1.6 CRDi SX Option     Pune  2015              41000   \n",
       "2                      Honda Jazz V  Chennai  2011              46000   \n",
       "\n",
       "  Fuel_Type Transmission Owner_Type  Mileage  Engine   Power  Seats  Price  \n",
       "0       CNG       Manual      First    26.60     998   58.16    5.0   1.75  \n",
       "1    Diesel       Manual      First    19.67    1582  126.20    5.0  12.50  \n",
       "2    Petrol       Manual      First    18.20    1199   88.70    5.0   4.50  "
      ]
     },
     "execution_count": 45,
     "metadata": {},
     "output_type": "execute_result"
    }
   ],
   "source": [
    "df[:3]"
   ]
  },
  {
   "cell_type": "code",
   "execution_count": 46,
   "id": "7e762138",
   "metadata": {},
   "outputs": [
    {
     "data": {
      "text/plain": [
       "Name                    0\n",
       "Location                0\n",
       "Year                    0\n",
       "Kilometers_Driven       0\n",
       "Fuel_Type               0\n",
       "Transmission            0\n",
       "Owner_Type              0\n",
       "Mileage                 0\n",
       "Engine                  0\n",
       "Power                   0\n",
       "Seats                   0\n",
       "Price                1234\n",
       "dtype: int64"
      ]
     },
     "execution_count": 46,
     "metadata": {},
     "output_type": "execute_result"
    }
   ],
   "source": [
    "df.isna().sum()"
   ]
  },
  {
   "cell_type": "code",
   "execution_count": 47,
   "id": "6ad9a2d7",
   "metadata": {},
   "outputs": [
    {
     "name": "stdout",
     "output_type": "stream",
     "text": [
      "<class 'pandas.core.frame.DataFrame'>\n",
      "Int64Index: 7251 entries, 0 to 7252\n",
      "Data columns (total 12 columns):\n",
      " #   Column             Non-Null Count  Dtype  \n",
      "---  ------             --------------  -----  \n",
      " 0   Name               7251 non-null   object \n",
      " 1   Location           7251 non-null   object \n",
      " 2   Year               7251 non-null   int64  \n",
      " 3   Kilometers_Driven  7251 non-null   int64  \n",
      " 4   Fuel_Type          7251 non-null   object \n",
      " 5   Transmission       7251 non-null   object \n",
      " 6   Owner_Type         7251 non-null   object \n",
      " 7   Mileage            7251 non-null   float64\n",
      " 8   Engine             7251 non-null   int32  \n",
      " 9   Power              7251 non-null   float64\n",
      " 10  Seats              7251 non-null   float64\n",
      " 11  Price              6017 non-null   float64\n",
      "dtypes: float64(4), int32(1), int64(2), object(5)\n",
      "memory usage: 708.1+ KB\n"
     ]
    }
   ],
   "source": [
    "df.info()"
   ]
  },
  {
   "cell_type": "code",
   "execution_count": 48,
   "id": "48b1c38b",
   "metadata": {},
   "outputs": [
    {
     "data": {
      "text/plain": [
       "Name                  object\n",
       "Location              object\n",
       "Year                   int64\n",
       "Kilometers_Driven      int64\n",
       "Fuel_Type             object\n",
       "Transmission          object\n",
       "Owner_Type            object\n",
       "Mileage              float64\n",
       "Engine                 int32\n",
       "Power                float64\n",
       "Seats                float64\n",
       "Price                float64\n",
       "dtype: object"
      ]
     },
     "execution_count": 48,
     "metadata": {},
     "output_type": "execute_result"
    }
   ],
   "source": [
    "df.dtypes"
   ]
  },
  {
   "cell_type": "code",
   "execution_count": null,
   "id": "9a661412",
   "metadata": {},
   "outputs": [],
   "source": []
  },
  {
   "cell_type": "code",
   "execution_count": 49,
   "id": "fdfc97cc",
   "metadata": {},
   "outputs": [
    {
     "data": {
      "text/html": [
       "<div>\n",
       "<style scoped>\n",
       "    .dataframe tbody tr th:only-of-type {\n",
       "        vertical-align: middle;\n",
       "    }\n",
       "\n",
       "    .dataframe tbody tr th {\n",
       "        vertical-align: top;\n",
       "    }\n",
       "\n",
       "    .dataframe thead th {\n",
       "        text-align: right;\n",
       "    }\n",
       "</style>\n",
       "<table border=\"1\" class=\"dataframe\">\n",
       "  <thead>\n",
       "    <tr style=\"text-align: right;\">\n",
       "      <th></th>\n",
       "      <th>Year</th>\n",
       "      <th>Kilometers_Driven</th>\n",
       "      <th>Mileage</th>\n",
       "      <th>Engine</th>\n",
       "      <th>Power</th>\n",
       "      <th>Seats</th>\n",
       "      <th>Price</th>\n",
       "    </tr>\n",
       "  </thead>\n",
       "  <tbody>\n",
       "    <tr>\n",
       "      <th>count</th>\n",
       "      <td>7251.000000</td>\n",
       "      <td>7.251000e+03</td>\n",
       "      <td>7251.000000</td>\n",
       "      <td>7251.000000</td>\n",
       "      <td>7251.000000</td>\n",
       "      <td>7251.000000</td>\n",
       "      <td>6017.000000</td>\n",
       "    </tr>\n",
       "    <tr>\n",
       "      <th>mean</th>\n",
       "      <td>2013.365329</td>\n",
       "      <td>5.870229e+04</td>\n",
       "      <td>18.344444</td>\n",
       "      <td>1614.099710</td>\n",
       "      <td>111.845012</td>\n",
       "      <td>5.278444</td>\n",
       "      <td>9.478340</td>\n",
       "    </tr>\n",
       "    <tr>\n",
       "      <th>std</th>\n",
       "      <td>3.254604</td>\n",
       "      <td>8.443913e+04</td>\n",
       "      <td>4.134665</td>\n",
       "      <td>594.130458</td>\n",
       "      <td>53.176829</td>\n",
       "      <td>0.806766</td>\n",
       "      <td>11.189605</td>\n",
       "    </tr>\n",
       "    <tr>\n",
       "      <th>min</th>\n",
       "      <td>1996.000000</td>\n",
       "      <td>1.710000e+02</td>\n",
       "      <td>6.400000</td>\n",
       "      <td>624.000000</td>\n",
       "      <td>34.200000</td>\n",
       "      <td>2.000000</td>\n",
       "      <td>0.440000</td>\n",
       "    </tr>\n",
       "    <tr>\n",
       "      <th>25%</th>\n",
       "      <td>2011.000000</td>\n",
       "      <td>3.400000e+04</td>\n",
       "      <td>15.400000</td>\n",
       "      <td>1197.000000</td>\n",
       "      <td>74.000000</td>\n",
       "      <td>5.000000</td>\n",
       "      <td>3.500000</td>\n",
       "    </tr>\n",
       "    <tr>\n",
       "      <th>50%</th>\n",
       "      <td>2014.000000</td>\n",
       "      <td>5.344200e+04</td>\n",
       "      <td>18.160000</td>\n",
       "      <td>1462.000000</td>\n",
       "      <td>91.100000</td>\n",
       "      <td>5.000000</td>\n",
       "      <td>5.640000</td>\n",
       "    </tr>\n",
       "    <tr>\n",
       "      <th>75%</th>\n",
       "      <td>2016.000000</td>\n",
       "      <td>7.300000e+04</td>\n",
       "      <td>21.100000</td>\n",
       "      <td>1968.000000</td>\n",
       "      <td>138.030000</td>\n",
       "      <td>5.000000</td>\n",
       "      <td>9.950000</td>\n",
       "    </tr>\n",
       "    <tr>\n",
       "      <th>max</th>\n",
       "      <td>2019.000000</td>\n",
       "      <td>6.500000e+06</td>\n",
       "      <td>33.540000</td>\n",
       "      <td>5998.000000</td>\n",
       "      <td>616.000000</td>\n",
       "      <td>10.000000</td>\n",
       "      <td>160.000000</td>\n",
       "    </tr>\n",
       "  </tbody>\n",
       "</table>\n",
       "</div>"
      ],
      "text/plain": [
       "              Year  Kilometers_Driven      Mileage       Engine        Power  \\\n",
       "count  7251.000000       7.251000e+03  7251.000000  7251.000000  7251.000000   \n",
       "mean   2013.365329       5.870229e+04    18.344444  1614.099710   111.845012   \n",
       "std       3.254604       8.443913e+04     4.134665   594.130458    53.176829   \n",
       "min    1996.000000       1.710000e+02     6.400000   624.000000    34.200000   \n",
       "25%    2011.000000       3.400000e+04    15.400000  1197.000000    74.000000   \n",
       "50%    2014.000000       5.344200e+04    18.160000  1462.000000    91.100000   \n",
       "75%    2016.000000       7.300000e+04    21.100000  1968.000000   138.030000   \n",
       "max    2019.000000       6.500000e+06    33.540000  5998.000000   616.000000   \n",
       "\n",
       "             Seats        Price  \n",
       "count  7251.000000  6017.000000  \n",
       "mean      5.278444     9.478340  \n",
       "std       0.806766    11.189605  \n",
       "min       2.000000     0.440000  \n",
       "25%       5.000000     3.500000  \n",
       "50%       5.000000     5.640000  \n",
       "75%       5.000000     9.950000  \n",
       "max      10.000000   160.000000  "
      ]
     },
     "execution_count": 49,
     "metadata": {},
     "output_type": "execute_result"
    }
   ],
   "source": [
    "df.describe()"
   ]
  },
  {
   "cell_type": "code",
   "execution_count": 50,
   "id": "10fd5869",
   "metadata": {},
   "outputs": [
    {
     "data": {
      "text/html": [
       "<div>\n",
       "<style scoped>\n",
       "    .dataframe tbody tr th:only-of-type {\n",
       "        vertical-align: middle;\n",
       "    }\n",
       "\n",
       "    .dataframe tbody tr th {\n",
       "        vertical-align: top;\n",
       "    }\n",
       "\n",
       "    .dataframe thead th {\n",
       "        text-align: right;\n",
       "    }\n",
       "</style>\n",
       "<table border=\"1\" class=\"dataframe\">\n",
       "  <thead>\n",
       "    <tr style=\"text-align: right;\">\n",
       "      <th></th>\n",
       "      <th>Year</th>\n",
       "      <th>Kilometers_Driven</th>\n",
       "      <th>Mileage</th>\n",
       "      <th>Engine</th>\n",
       "      <th>Power</th>\n",
       "      <th>Seats</th>\n",
       "      <th>Price</th>\n",
       "    </tr>\n",
       "  </thead>\n",
       "  <tbody>\n",
       "    <tr>\n",
       "      <th>Year</th>\n",
       "      <td>1.000000</td>\n",
       "      <td>-0.187881</td>\n",
       "      <td>0.295573</td>\n",
       "      <td>-0.048804</td>\n",
       "      <td>0.038031</td>\n",
       "      <td>0.010527</td>\n",
       "      <td>0.305355</td>\n",
       "    </tr>\n",
       "    <tr>\n",
       "      <th>Kilometers_Driven</th>\n",
       "      <td>-0.187881</td>\n",
       "      <td>1.000000</td>\n",
       "      <td>-0.069413</td>\n",
       "      <td>0.094086</td>\n",
       "      <td>0.026098</td>\n",
       "      <td>0.090760</td>\n",
       "      <td>-0.011480</td>\n",
       "    </tr>\n",
       "    <tr>\n",
       "      <th>Mileage</th>\n",
       "      <td>0.295573</td>\n",
       "      <td>-0.069413</td>\n",
       "      <td>1.000000</td>\n",
       "      <td>-0.636807</td>\n",
       "      <td>-0.538309</td>\n",
       "      <td>-0.347695</td>\n",
       "      <td>-0.329977</td>\n",
       "    </tr>\n",
       "    <tr>\n",
       "      <th>Engine</th>\n",
       "      <td>-0.048804</td>\n",
       "      <td>0.094086</td>\n",
       "      <td>-0.636807</td>\n",
       "      <td>1.000000</td>\n",
       "      <td>0.854620</td>\n",
       "      <td>0.403389</td>\n",
       "      <td>0.657694</td>\n",
       "    </tr>\n",
       "    <tr>\n",
       "      <th>Power</th>\n",
       "      <td>0.038031</td>\n",
       "      <td>0.026098</td>\n",
       "      <td>-0.538309</td>\n",
       "      <td>0.854620</td>\n",
       "      <td>1.000000</td>\n",
       "      <td>0.099879</td>\n",
       "      <td>0.770681</td>\n",
       "    </tr>\n",
       "    <tr>\n",
       "      <th>Seats</th>\n",
       "      <td>0.010527</td>\n",
       "      <td>0.090760</td>\n",
       "      <td>-0.347695</td>\n",
       "      <td>0.403389</td>\n",
       "      <td>0.099879</td>\n",
       "      <td>1.000000</td>\n",
       "      <td>0.053824</td>\n",
       "    </tr>\n",
       "    <tr>\n",
       "      <th>Price</th>\n",
       "      <td>0.305355</td>\n",
       "      <td>-0.011480</td>\n",
       "      <td>-0.329977</td>\n",
       "      <td>0.657694</td>\n",
       "      <td>0.770681</td>\n",
       "      <td>0.053824</td>\n",
       "      <td>1.000000</td>\n",
       "    </tr>\n",
       "  </tbody>\n",
       "</table>\n",
       "</div>"
      ],
      "text/plain": [
       "                       Year  Kilometers_Driven   Mileage    Engine     Power  \\\n",
       "Year               1.000000          -0.187881  0.295573 -0.048804  0.038031   \n",
       "Kilometers_Driven -0.187881           1.000000 -0.069413  0.094086  0.026098   \n",
       "Mileage            0.295573          -0.069413  1.000000 -0.636807 -0.538309   \n",
       "Engine            -0.048804           0.094086 -0.636807  1.000000  0.854620   \n",
       "Power              0.038031           0.026098 -0.538309  0.854620  1.000000   \n",
       "Seats              0.010527           0.090760 -0.347695  0.403389  0.099879   \n",
       "Price              0.305355          -0.011480 -0.329977  0.657694  0.770681   \n",
       "\n",
       "                      Seats     Price  \n",
       "Year               0.010527  0.305355  \n",
       "Kilometers_Driven  0.090760 -0.011480  \n",
       "Mileage           -0.347695 -0.329977  \n",
       "Engine             0.403389  0.657694  \n",
       "Power              0.099879  0.770681  \n",
       "Seats              1.000000  0.053824  \n",
       "Price              0.053824  1.000000  "
      ]
     },
     "execution_count": 50,
     "metadata": {},
     "output_type": "execute_result"
    }
   ],
   "source": [
    "df.corr()"
   ]
  },
  {
   "cell_type": "code",
   "execution_count": 90,
   "id": "5c786f22",
   "metadata": {},
   "outputs": [],
   "source": [
    "df.to_csv('used_car_clean.csv')"
   ]
  },
  {
   "cell_type": "code",
   "execution_count": 51,
   "id": "df9480d0",
   "metadata": {},
   "outputs": [
    {
     "data": {
      "text/html": [
       "<div>\n",
       "<style scoped>\n",
       "    .dataframe tbody tr th:only-of-type {\n",
       "        vertical-align: middle;\n",
       "    }\n",
       "\n",
       "    .dataframe tbody tr th {\n",
       "        vertical-align: top;\n",
       "    }\n",
       "\n",
       "    .dataframe thead th {\n",
       "        text-align: right;\n",
       "    }\n",
       "</style>\n",
       "<table border=\"1\" class=\"dataframe\">\n",
       "  <thead>\n",
       "    <tr style=\"text-align: right;\">\n",
       "      <th></th>\n",
       "      <th>Name</th>\n",
       "      <th>Location</th>\n",
       "      <th>Year</th>\n",
       "      <th>Kilometers_Driven</th>\n",
       "      <th>Fuel_Type</th>\n",
       "      <th>Transmission</th>\n",
       "      <th>Owner_Type</th>\n",
       "      <th>Mileage</th>\n",
       "      <th>Engine</th>\n",
       "      <th>Power</th>\n",
       "      <th>Seats</th>\n",
       "      <th>Price</th>\n",
       "    </tr>\n",
       "  </thead>\n",
       "  <tbody>\n",
       "    <tr>\n",
       "      <th>0</th>\n",
       "      <td>Maruti Wagon R LXI CNG</td>\n",
       "      <td>Mumbai</td>\n",
       "      <td>2010</td>\n",
       "      <td>72000</td>\n",
       "      <td>CNG</td>\n",
       "      <td>Manual</td>\n",
       "      <td>First</td>\n",
       "      <td>26.60</td>\n",
       "      <td>998</td>\n",
       "      <td>58.16</td>\n",
       "      <td>5.0</td>\n",
       "      <td>1.75</td>\n",
       "    </tr>\n",
       "    <tr>\n",
       "      <th>1</th>\n",
       "      <td>Hyundai Creta 1.6 CRDi SX Option</td>\n",
       "      <td>Pune</td>\n",
       "      <td>2015</td>\n",
       "      <td>41000</td>\n",
       "      <td>Diesel</td>\n",
       "      <td>Manual</td>\n",
       "      <td>First</td>\n",
       "      <td>19.67</td>\n",
       "      <td>1582</td>\n",
       "      <td>126.20</td>\n",
       "      <td>5.0</td>\n",
       "      <td>12.50</td>\n",
       "    </tr>\n",
       "    <tr>\n",
       "      <th>2</th>\n",
       "      <td>Honda Jazz V</td>\n",
       "      <td>Chennai</td>\n",
       "      <td>2011</td>\n",
       "      <td>46000</td>\n",
       "      <td>Petrol</td>\n",
       "      <td>Manual</td>\n",
       "      <td>First</td>\n",
       "      <td>18.20</td>\n",
       "      <td>1199</td>\n",
       "      <td>88.70</td>\n",
       "      <td>5.0</td>\n",
       "      <td>4.50</td>\n",
       "    </tr>\n",
       "  </tbody>\n",
       "</table>\n",
       "</div>"
      ],
      "text/plain": [
       "                               Name Location  Year  Kilometers_Driven  \\\n",
       "0            Maruti Wagon R LXI CNG   Mumbai  2010              72000   \n",
       "1  Hyundai Creta 1.6 CRDi SX Option     Pune  2015              41000   \n",
       "2                      Honda Jazz V  Chennai  2011              46000   \n",
       "\n",
       "  Fuel_Type Transmission Owner_Type  Mileage  Engine   Power  Seats  Price  \n",
       "0       CNG       Manual      First    26.60     998   58.16    5.0   1.75  \n",
       "1    Diesel       Manual      First    19.67    1582  126.20    5.0  12.50  \n",
       "2    Petrol       Manual      First    18.20    1199   88.70    5.0   4.50  "
      ]
     },
     "execution_count": 51,
     "metadata": {},
     "output_type": "execute_result"
    }
   ],
   "source": [
    "df[:3]"
   ]
  },
  {
   "cell_type": "code",
   "execution_count": 52,
   "id": "33830357",
   "metadata": {},
   "outputs": [
    {
     "data": {
      "image/png": "[encoded data removed]",
      "text/plain": [
       "<Figure size 1080x576 with 1 Axes>"
      ]
     },
     "metadata": {
      "needs_background": "light"
     },
     "output_type": "display_data"
    }
   ],
   "source": [
    "#Location wise distribution\n",
    "\n",
    "plt.figure(figsize=(15,8))\n",
    "sns.countplot(x='Location',data=df,order=df['Location'].value_counts().index)\n",
    "plt.xlabel('Location',fontsize=14)\n",
    "plt.ylabel('Count',fontsize=14)\n",
    "plt.xticks(rotation=60,fontsize=12)\n",
    "plt.title('Location Wise Vehicle Count',fontsize=20)\n",
    "plt.show()"
   ]
  },
  {
   "cell_type": "raw",
   "id": "8911c31e",
   "metadata": {},
   "source": [
    "We can observe that most of vehicles are from Mumbai, Hyderabad\n",
    "Nearly same number of vehicles from Coimbatore, Kochi and Pune. \n",
    "Lowest number of vehicles from Ahmedabad"
   ]
  },
  {
   "cell_type": "code",
   "execution_count": 53,
   "id": "7f95b136",
   "metadata": {},
   "outputs": [
    {
     "data": {
      "image/png": "[encoded data removed]",
      "text/plain": [
       "<Figure size 1080x576 with 1 Axes>"
      ]
     },
     "metadata": {
      "needs_background": "light"
     },
     "output_type": "display_data"
    }
   ],
   "source": [
    "# Year wise distribution\n",
    "\n",
    "plt.figure(figsize=(15,8))\n",
    "sns.countplot(x='Year',data=df,order=df['Year'].value_counts().index)\n",
    "plt.xlabel('Year',fontsize=14)\n",
    "plt.ylabel('Count',fontsize=14)\n",
    "plt.xticks(rotation=45,fontsize=12)\n",
    "plt.title('Year wise Vechicle count',fontsize=20)\n",
    "plt.show()"
   ]
  },
  {
   "cell_type": "raw",
   "id": "27c97a2e",
   "metadata": {},
   "source": [
    "Most of the Vehicles are from year 2015,2014,2016.\n",
    "There are very less vechilces from Year 2003,2002,2001,2000,1998,1999.1996"
   ]
  },
  {
   "cell_type": "code",
   "execution_count": 54,
   "id": "002e252e",
   "metadata": {},
   "outputs": [
    {
     "data": {
      "image/png": "[encoded data removed]",
      "text/plain": [
       "<Figure size 1080x576 with 2 Axes>"
      ]
     },
     "metadata": {
      "needs_background": "light"
     },
     "output_type": "display_data"
    }
   ],
   "source": [
    "# Fuel Type\n",
    "\n",
    "fig, ax = plt.subplots(1,2,figsize=(15,8))\n",
    "plt.suptitle('Fuel Type wise Vechicle count',fontsize=20)\n",
    "\n",
    "sns.countplot(ax=ax[0],x='Fuel_Type',data=df)\n",
    "plt.xlabel('Fuel_Type',fontsize=14)\n",
    "\n",
    "\n",
    "ax[1].pie(df['Fuel_Type'].value_counts(),labels=df['Fuel_Type'].value_counts().index,autopct='%.2f%%',explode=[0,0,0.5,0.9],labeldistance=0.5,pctdistance=1.2)\n",
    "\n",
    "plt.show()"
   ]
  },
  {
   "cell_type": "markdown",
   "id": "1c7c9fa6",
   "metadata": {},
   "source": [
    "Most Vehicle are Diesel driven(53%), CNG(0.86%) And LPG(0.17%) driven are least.\n"
   ]
  },
  {
   "cell_type": "code",
   "execution_count": 55,
   "id": "febe7060",
   "metadata": {},
   "outputs": [
    {
     "data": {
      "image/png": "[encoded data removed]",
      "text/plain": [
       "<Figure size 1080x576 with 2 Axes>"
      ]
     },
     "metadata": {
      "needs_background": "light"
     },
     "output_type": "display_data"
    }
   ],
   "source": [
    "# Transmission Type\n",
    "\n",
    "fig, ax = plt.subplots(1,2,figsize=(15,8))\n",
    "plt.suptitle('Transmission wise Vechicle count',fontsize=20)\n",
    "\n",
    "sns.countplot(ax=ax[0],x='Transmission',data=df)\n",
    "plt.xlabel('Transmission',fontsize=14)\n",
    "\n",
    "ax[1].pie(df['Transmission'].value_counts(),labels=df['Transmission'].value_counts().index,autopct='%.2f%%',explode=[0,0.2],labeldistance=1.1,pctdistance=0.5)\n",
    "\n",
    "plt.show()"
   ]
  },
  {
   "cell_type": "markdown",
   "id": "7c2bd4e1",
   "metadata": {},
   "source": [
    "There ar around 72% of Vehicles with Manual Transmission, While only 28% are Automatic Transmission"
   ]
  },
  {
   "cell_type": "code",
   "execution_count": 56,
   "id": "3f399abc",
   "metadata": {},
   "outputs": [
    {
     "data": {
      "image/png": "[encoded data removed]",
      "text/plain": [
       "<Figure size 1080x576 with 2 Axes>"
      ]
     },
     "metadata": {
      "needs_background": "light"
     },
     "output_type": "display_data"
    }
   ],
   "source": [
    "# Owner_Type\n",
    "\n",
    "fig, ax = plt.subplots(1,2,figsize=(15,8))\n",
    "plt.suptitle('Owner Type wise Vechicle count',fontsize=20)\n",
    "\n",
    "sns.countplot(ax=ax[0],x='Owner_Type',data=df)\n",
    "plt.xlabel('Owner_Type',fontsize=14)\n",
    "\n",
    "\n",
    "ax[1].pie(df['Owner_Type'].value_counts(),labels=df['Owner_Type'].value_counts().index,autopct='%.2f%%',explode=[0,0,0.4,0.9],labeldistance=0.4,pctdistance=1.2\n",
    "         )\n",
    "\n",
    "plt.show()"
   ]
  },
  {
   "cell_type": "raw",
   "id": "c4413773",
   "metadata": {},
   "source": [
    "Here we can see that most i.e. around 82% of vehicles are from First Owner, while Third and above owned vehicles are very less"
   ]
  },
  {
   "cell_type": "code",
   "execution_count": 57,
   "id": "60fc603a",
   "metadata": {},
   "outputs": [],
   "source": [
    "df1 = df.copy()"
   ]
  },
  {
   "cell_type": "markdown",
   "id": "c977bf38",
   "metadata": {},
   "source": [
    "### Dropping Price Column NaN  values"
   ]
  },
  {
   "cell_type": "code",
   "execution_count": 58,
   "id": "c6061051",
   "metadata": {},
   "outputs": [
    {
     "data": {
      "text/html": [
       "<div>\n",
       "<style scoped>\n",
       "    .dataframe tbody tr th:only-of-type {\n",
       "        vertical-align: middle;\n",
       "    }\n",
       "\n",
       "    .dataframe tbody tr th {\n",
       "        vertical-align: top;\n",
       "    }\n",
       "\n",
       "    .dataframe thead th {\n",
       "        text-align: right;\n",
       "    }\n",
       "</style>\n",
       "<table border=\"1\" class=\"dataframe\">\n",
       "  <thead>\n",
       "    <tr style=\"text-align: right;\">\n",
       "      <th></th>\n",
       "      <th>Name</th>\n",
       "      <th>Location</th>\n",
       "      <th>Year</th>\n",
       "      <th>Kilometers_Driven</th>\n",
       "      <th>Fuel_Type</th>\n",
       "      <th>Transmission</th>\n",
       "      <th>Owner_Type</th>\n",
       "      <th>Mileage</th>\n",
       "      <th>Engine</th>\n",
       "      <th>Power</th>\n",
       "      <th>Seats</th>\n",
       "      <th>Price</th>\n",
       "    </tr>\n",
       "  </thead>\n",
       "  <tbody>\n",
       "    <tr>\n",
       "      <th>0</th>\n",
       "      <td>Maruti Wagon R LXI CNG</td>\n",
       "      <td>Mumbai</td>\n",
       "      <td>2010</td>\n",
       "      <td>72000</td>\n",
       "      <td>CNG</td>\n",
       "      <td>Manual</td>\n",
       "      <td>First</td>\n",
       "      <td>26.60</td>\n",
       "      <td>998</td>\n",
       "      <td>58.16</td>\n",
       "      <td>5.0</td>\n",
       "      <td>1.75</td>\n",
       "    </tr>\n",
       "    <tr>\n",
       "      <th>1</th>\n",
       "      <td>Hyundai Creta 1.6 CRDi SX Option</td>\n",
       "      <td>Pune</td>\n",
       "      <td>2015</td>\n",
       "      <td>41000</td>\n",
       "      <td>Diesel</td>\n",
       "      <td>Manual</td>\n",
       "      <td>First</td>\n",
       "      <td>19.67</td>\n",
       "      <td>1582</td>\n",
       "      <td>126.20</td>\n",
       "      <td>5.0</td>\n",
       "      <td>12.50</td>\n",
       "    </tr>\n",
       "    <tr>\n",
       "      <th>2</th>\n",
       "      <td>Honda Jazz V</td>\n",
       "      <td>Chennai</td>\n",
       "      <td>2011</td>\n",
       "      <td>46000</td>\n",
       "      <td>Petrol</td>\n",
       "      <td>Manual</td>\n",
       "      <td>First</td>\n",
       "      <td>18.20</td>\n",
       "      <td>1199</td>\n",
       "      <td>88.70</td>\n",
       "      <td>5.0</td>\n",
       "      <td>4.50</td>\n",
       "    </tr>\n",
       "  </tbody>\n",
       "</table>\n",
       "</div>"
      ],
      "text/plain": [
       "                               Name Location  Year  Kilometers_Driven  \\\n",
       "0            Maruti Wagon R LXI CNG   Mumbai  2010              72000   \n",
       "1  Hyundai Creta 1.6 CRDi SX Option     Pune  2015              41000   \n",
       "2                      Honda Jazz V  Chennai  2011              46000   \n",
       "\n",
       "  Fuel_Type Transmission Owner_Type  Mileage  Engine   Power  Seats  Price  \n",
       "0       CNG       Manual      First    26.60     998   58.16    5.0   1.75  \n",
       "1    Diesel       Manual      First    19.67    1582  126.20    5.0  12.50  \n",
       "2    Petrol       Manual      First    18.20    1199   88.70    5.0   4.50  "
      ]
     },
     "execution_count": 58,
     "metadata": {},
     "output_type": "execute_result"
    }
   ],
   "source": [
    "df1.dropna(inplace=True)\n",
    "df1[:3]"
   ]
  },
  {
   "cell_type": "markdown",
   "id": "a12be400",
   "metadata": {},
   "source": [
    "## Dropping Name Column"
   ]
  },
  {
   "cell_type": "code",
   "execution_count": 59,
   "id": "fc487f7f",
   "metadata": {},
   "outputs": [
    {
     "data": {
      "text/html": [
       "<div>\n",
       "<style scoped>\n",
       "    .dataframe tbody tr th:only-of-type {\n",
       "        vertical-align: middle;\n",
       "    }\n",
       "\n",
       "    .dataframe tbody tr th {\n",
       "        vertical-align: top;\n",
       "    }\n",
       "\n",
       "    .dataframe thead th {\n",
       "        text-align: right;\n",
       "    }\n",
       "</style>\n",
       "<table border=\"1\" class=\"dataframe\">\n",
       "  <thead>\n",
       "    <tr style=\"text-align: right;\">\n",
       "      <th></th>\n",
       "      <th>Location</th>\n",
       "      <th>Year</th>\n",
       "      <th>Kilometers_Driven</th>\n",
       "      <th>Fuel_Type</th>\n",
       "      <th>Transmission</th>\n",
       "      <th>Owner_Type</th>\n",
       "      <th>Mileage</th>\n",
       "      <th>Engine</th>\n",
       "      <th>Power</th>\n",
       "      <th>Seats</th>\n",
       "      <th>Price</th>\n",
       "    </tr>\n",
       "  </thead>\n",
       "  <tbody>\n",
       "    <tr>\n",
       "      <th>0</th>\n",
       "      <td>Mumbai</td>\n",
       "      <td>2010</td>\n",
       "      <td>72000</td>\n",
       "      <td>CNG</td>\n",
       "      <td>Manual</td>\n",
       "      <td>First</td>\n",
       "      <td>26.60</td>\n",
       "      <td>998</td>\n",
       "      <td>58.16</td>\n",
       "      <td>5.0</td>\n",
       "      <td>1.75</td>\n",
       "    </tr>\n",
       "    <tr>\n",
       "      <th>1</th>\n",
       "      <td>Pune</td>\n",
       "      <td>2015</td>\n",
       "      <td>41000</td>\n",
       "      <td>Diesel</td>\n",
       "      <td>Manual</td>\n",
       "      <td>First</td>\n",
       "      <td>19.67</td>\n",
       "      <td>1582</td>\n",
       "      <td>126.20</td>\n",
       "      <td>5.0</td>\n",
       "      <td>12.50</td>\n",
       "    </tr>\n",
       "    <tr>\n",
       "      <th>2</th>\n",
       "      <td>Chennai</td>\n",
       "      <td>2011</td>\n",
       "      <td>46000</td>\n",
       "      <td>Petrol</td>\n",
       "      <td>Manual</td>\n",
       "      <td>First</td>\n",
       "      <td>18.20</td>\n",
       "      <td>1199</td>\n",
       "      <td>88.70</td>\n",
       "      <td>5.0</td>\n",
       "      <td>4.50</td>\n",
       "    </tr>\n",
       "  </tbody>\n",
       "</table>\n",
       "</div>"
      ],
      "text/plain": [
       "  Location  Year  Kilometers_Driven Fuel_Type Transmission Owner_Type  \\\n",
       "0   Mumbai  2010              72000       CNG       Manual      First   \n",
       "1     Pune  2015              41000    Diesel       Manual      First   \n",
       "2  Chennai  2011              46000    Petrol       Manual      First   \n",
       "\n",
       "   Mileage  Engine   Power  Seats  Price  \n",
       "0    26.60     998   58.16    5.0   1.75  \n",
       "1    19.67    1582  126.20    5.0  12.50  \n",
       "2    18.20    1199   88.70    5.0   4.50  "
      ]
     },
     "execution_count": 59,
     "metadata": {},
     "output_type": "execute_result"
    }
   ],
   "source": [
    "df1 = df1.iloc[:,1:]\n",
    "df1[:3]"
   ]
  },
  {
   "cell_type": "code",
   "execution_count": 60,
   "id": "2afcdccc",
   "metadata": {},
   "outputs": [],
   "source": [
    "final = pd.get_dummies(df1,drop_first=True)"
   ]
  },
  {
   "cell_type": "code",
   "execution_count": 61,
   "id": "d12fa096",
   "metadata": {},
   "outputs": [],
   "source": [
    "X = final.drop(columns='Price')"
   ]
  },
  {
   "cell_type": "code",
   "execution_count": 62,
   "id": "61b6926b",
   "metadata": {},
   "outputs": [
    {
     "data": {
      "text/plain": [
       "0     1.75\n",
       "1    12.50\n",
       "2     4.50\n",
       "Name: Price, dtype: float64"
      ]
     },
     "execution_count": 62,
     "metadata": {},
     "output_type": "execute_result"
    }
   ],
   "source": [
    "y = final['Price']\n",
    "y[:3]"
   ]
  },
  {
   "cell_type": "code",
   "execution_count": 63,
   "id": "d783a74b",
   "metadata": {},
   "outputs": [],
   "source": [
    "from sklearn.model_selection import train_test_split\n",
    "X_train,X_test,y_train,y_test = train_test_split(X,y,test_size=0.2,random_state=42)"
   ]
  },
  {
   "cell_type": "code",
   "execution_count": 64,
   "id": "ade28158",
   "metadata": {},
   "outputs": [],
   "source": [
    "from sklearn.linear_model import LinearRegression\n",
    "\n",
    "model = LinearRegression()"
   ]
  },
  {
   "cell_type": "code",
   "execution_count": 65,
   "id": "71ccdff4",
   "metadata": {},
   "outputs": [
    {
     "data": {
      "text/plain": [
       "LinearRegression()"
      ]
     },
     "execution_count": 65,
     "metadata": {},
     "output_type": "execute_result"
    }
   ],
   "source": [
    "model.fit(X_train,y_train)"
   ]
  },
  {
   "cell_type": "code",
   "execution_count": 66,
   "id": "2e5b35ad",
   "metadata": {},
   "outputs": [],
   "source": [
    "y_pred = model.predict(X_test)"
   ]
  },
  {
   "cell_type": "code",
   "execution_count": 67,
   "id": "08fb3e37",
   "metadata": {},
   "outputs": [
    {
     "data": {
      "text/plain": [
       "69.03522914414407"
      ]
     },
     "execution_count": 67,
     "metadata": {},
     "output_type": "execute_result"
    }
   ],
   "source": [
    "model.score(X_test,y_test)*100"
   ]
  },
  {
   "cell_type": "code",
   "execution_count": 68,
   "id": "b1182d00",
   "metadata": {},
   "outputs": [
    {
     "data": {
      "text/plain": [
       "69.88596933275937"
      ]
     },
     "execution_count": 68,
     "metadata": {},
     "output_type": "execute_result"
    }
   ],
   "source": [
    "model.score(X_train,y_train)*100"
   ]
  },
  {
   "cell_type": "code",
   "execution_count": 69,
   "id": "c51fe239",
   "metadata": {},
   "outputs": [],
   "source": [
    "from sklearn.metrics import mean_absolute_error,mean_squared_error,r2_score\n"
   ]
  },
  {
   "cell_type": "code",
   "execution_count": 70,
   "id": "10bc3db2",
   "metadata": {},
   "outputs": [
    {
     "data": {
      "text/plain": [
       "3.7117122913229674"
      ]
     },
     "execution_count": 70,
     "metadata": {},
     "output_type": "execute_result"
    }
   ],
   "source": [
    "mean_absolute_error(y_pred,y_test)"
   ]
  },
  {
   "cell_type": "code",
   "execution_count": 71,
   "id": "d24ed8e5",
   "metadata": {},
   "outputs": [
    {
     "data": {
      "text/plain": [
       "36.33902571631333"
      ]
     },
     "execution_count": 71,
     "metadata": {},
     "output_type": "execute_result"
    }
   ],
   "source": [
    "mean_squared_error(y_pred,y_test)"
   ]
  },
  {
   "cell_type": "code",
   "execution_count": 72,
   "id": "48074622",
   "metadata": {},
   "outputs": [
    {
     "data": {
      "text/plain": [
       "6.028185939095884"
      ]
     },
     "execution_count": 72,
     "metadata": {},
     "output_type": "execute_result"
    }
   ],
   "source": [
    "from math import sqrt\n",
    "\n",
    "sqrt(mean_squared_error(y_pred,y_test))"
   ]
  },
  {
   "cell_type": "code",
   "execution_count": 73,
   "id": "77248fb0",
   "metadata": {},
   "outputs": [
    {
     "data": {
      "text/plain": [
       "58.587200107349304"
      ]
     },
     "execution_count": 73,
     "metadata": {},
     "output_type": "execute_result"
    }
   ],
   "source": [
    "r2_score(y_pred,y_test)*100"
   ]
  }
 ],
 "metadata": {
  "kernelspec": {
   "display_name": "Python 3 (ipykernel)",
   "language": "python",
   "name": "python3"
  },
  "language_info": {
   "codemirror_mode": {
    "name": "ipython",
    "version": 3
   },
   "file_extension": ".py",
   "mimetype": "text/x-python",
   "name": "python",
   "nbconvert_exporter": "python",
   "pygments_lexer": "ipython3",
   "version": "3.9.12"
  }
 },
 "nbformat": 4,
 "nbformat_minor": 5
}
